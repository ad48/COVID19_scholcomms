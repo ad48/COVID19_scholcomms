{
 "cells": [
  {
   "cell_type": "markdown",
   "metadata": {},
   "source": [
    "# Vectorisation (turning text into numbers)\n",
    "There are a lot of ways to turn text into numbers. Here, we will use Doc2Vec, but other algorithms do this well including BERT, LDA, LSI etc."
   ]
  },
  {
   "cell_type": "code",
   "execution_count": 1,
   "metadata": {
    "scrolled": true
   },
   "outputs": [],
   "source": [
    "import logging\n",
    "logging.basicConfig(format='%(asctime)s : %(levelname)s : %(message)s', level=logging.INFO)"
   ]
  },
  {
   "cell_type": "code",
   "execution_count": 1,
   "metadata": {},
   "outputs": [],
   "source": [
    "import pandas as pd\n",
    "import numpy as np"
   ]
  },
  {
   "cell_type": "code",
   "execution_count": 2,
   "metadata": {},
   "outputs": [
    {
     "data": {
      "text/plain": [
       "(12617, 13)"
      ]
     },
     "execution_count": 2,
     "metadata": {},
     "output_type": "execute_result"
    }
   ],
   "source": [
    "# read in our data\n",
    "df = pd.read_csv('data/s2_cr_data.csv', dtype=str)\n",
    "df.shape"
   ]
  },
  {
   "cell_type": "code",
   "execution_count": 3,
   "metadata": {},
   "outputs": [
    {
     "data": {
      "text/html": [
       "<div>\n",
       "<style scoped>\n",
       "    .dataframe tbody tr th:only-of-type {\n",
       "        vertical-align: middle;\n",
       "    }\n",
       "\n",
       "    .dataframe tbody tr th {\n",
       "        vertical-align: top;\n",
       "    }\n",
       "\n",
       "    .dataframe thead th {\n",
       "        text-align: right;\n",
       "    }\n",
       "</style>\n",
       "<table border=\"1\" class=\"dataframe\">\n",
       "  <thead>\n",
       "    <tr style=\"text-align: right;\">\n",
       "      <th></th>\n",
       "      <th>pid</th>\n",
       "      <th>doi</th>\n",
       "      <th>title</th>\n",
       "      <th>abstract</th>\n",
       "      <th>authors</th>\n",
       "      <th>venue</th>\n",
       "      <th>year</th>\n",
       "      <th>tiabs</th>\n",
       "      <th>journal</th>\n",
       "      <th>journal-short</th>\n",
       "      <th>pubdate</th>\n",
       "      <th>issns</th>\n",
       "      <th>publisher</th>\n",
       "    </tr>\n",
       "  </thead>\n",
       "  <tbody>\n",
       "    <tr>\n",
       "      <th>8439</th>\n",
       "      <td>98e6190d06a8d8774c690be39634a1d64a926dc3</td>\n",
       "      <td>10.3390/cells8040377</td>\n",
       "      <td>Genetic Diversity and Differentiation at Struc...</td>\n",
       "      <td>Investigating adaptive potential and understan...</td>\n",
       "      <td>Lan, Hong; Zhou, Tong; Wan, Qiu-Hong; Fang, Sh...</td>\n",
       "      <td>Cells</td>\n",
       "      <td>2019</td>\n",
       "      <td>Genetic Diversity and Differentiation at Struc...</td>\n",
       "      <td>Cells</td>\n",
       "      <td>Cells</td>\n",
       "      <td>2019-04-25</td>\n",
       "      <td>2073-4409</td>\n",
       "      <td>MDPI AG</td>\n",
       "    </tr>\n",
       "    <tr>\n",
       "      <th>9557</th>\n",
       "      <td>27c190c3d4fc0884a3b9d79774ee61a0c305c540</td>\n",
       "      <td>NaN</td>\n",
       "      <td>In Vitro Membrane Assembly of a Polytopic, Tra...</td>\n",
       "      <td>In vitro integration of the polytopic, transme...</td>\n",
       "      <td>Ahrem, Barbara; Hoffschulte, Hedda; Miiller, M...</td>\n",
       "      <td>NaN</td>\n",
       "      <td>NaN</td>\n",
       "      <td>In Vitro Membrane Assembly of a Polytopic, Tra...</td>\n",
       "      <td>NaN</td>\n",
       "      <td>NaN</td>\n",
       "      <td>NaN</td>\n",
       "      <td>NaN</td>\n",
       "      <td>NaN</td>\n",
       "    </tr>\n",
       "    <tr>\n",
       "      <th>884</th>\n",
       "      <td>2e2de8d6ebd368c062fed5770aa26a780bdc25b8</td>\n",
       "      <td>10.1186/1471-2334-6-82</td>\n",
       "      <td>The interferon gamma gene polymorphism +874 A/...</td>\n",
       "      <td>BackgroundCytokines play important roles in an...</td>\n",
       "      <td>Po, Wai; †1, Chong; Ip, Wk; Hoi, Gloria; Tso, ...</td>\n",
       "      <td>BMC infectious diseases</td>\n",
       "      <td>2006</td>\n",
       "      <td>The interferon gamma gene polymorphism +874 A/...</td>\n",
       "      <td>BMC Infectious Diseases</td>\n",
       "      <td>BMC Infect Dis</td>\n",
       "      <td>2006-05-04</td>\n",
       "      <td>1471-2334</td>\n",
       "      <td>Springer Science and Business Media LLC</td>\n",
       "    </tr>\n",
       "    <tr>\n",
       "      <th>10970</th>\n",
       "      <td>1cfcdcf2a3783b9adba2b091bd50c5d8ac3252ff</td>\n",
       "      <td>NaN</td>\n",
       "      <td>International Journal of Nanomedicine Dovepres...</td>\n",
       "      <td>Influenza virus infections are a major public ...</td>\n",
       "      <td>Jack Hu, Che-Ming; Chen, You-Ting; Fang, Zih-S...</td>\n",
       "      <td>NaN</td>\n",
       "      <td>NaN</td>\n",
       "      <td>International Journal of Nanomedicine Dovepres...</td>\n",
       "      <td>NaN</td>\n",
       "      <td>NaN</td>\n",
       "      <td>NaN</td>\n",
       "      <td>NaN</td>\n",
       "      <td>NaN</td>\n",
       "    </tr>\n",
       "    <tr>\n",
       "      <th>12072</th>\n",
       "      <td>504684906ab86a5130b59c2557ec73e2226f67e7</td>\n",
       "      <td>NaN</td>\n",
       "      <td>NaN</td>\n",
       "      <td>B ats are a major source of zoonotic viruses w...</td>\n",
       "      <td>NaN</td>\n",
       "      <td>NaN</td>\n",
       "      <td>NaN</td>\n",
       "      <td>B ats are a major source of zoonotic viruses w...</td>\n",
       "      <td>NaN</td>\n",
       "      <td>NaN</td>\n",
       "      <td>NaN</td>\n",
       "      <td>NaN</td>\n",
       "      <td>NaN</td>\n",
       "    </tr>\n",
       "    <tr>\n",
       "      <th>8906</th>\n",
       "      <td>04510f144938a17bf2c2a9683ce3479ff0246b94</td>\n",
       "      <td>10.1186/s12967-019-2077-y</td>\n",
       "      <td>The protective role of microRNA-21 against cox...</td>\n",
       "      <td>BackgroundThe P38 mitogen-activated protein ki...</td>\n",
       "      <td>He, Feng; Xiao, Zonghui; Yao, Hailan; Li, Sen;...</td>\n",
       "      <td>Journal of Translational Medicine</td>\n",
       "      <td>2019</td>\n",
       "      <td>The protective role of microRNA-21 against cox...</td>\n",
       "      <td>Journal of Translational Medicine</td>\n",
       "      <td>J Transl Med</td>\n",
       "      <td>2019-10-04</td>\n",
       "      <td>1479-5876</td>\n",
       "      <td>Springer Science and Business Media LLC</td>\n",
       "    </tr>\n",
       "    <tr>\n",
       "      <th>8000</th>\n",
       "      <td>350bf76f2ecfc9322c9c8b59af3b7a14a6e51c0f</td>\n",
       "      <td>10.1007/s11250-018-1668-6</td>\n",
       "      <td>Analysis of pig trading networks and practices...</td>\n",
       "      <td>East Africa is undergoing rapid expansion of p...</td>\n",
       "      <td>Atherstone, C; Galiwango, R; Grace, &amp;amp;; Alo...</td>\n",
       "      <td>Tropical Animal Health and Production</td>\n",
       "      <td>2018</td>\n",
       "      <td>Analysis of pig trading networks and practices...</td>\n",
       "      <td>Tropical Animal Health and Production</td>\n",
       "      <td>Trop Anim Health Prod</td>\n",
       "      <td>2018-08-02</td>\n",
       "      <td>0049-4747; 1573-7438</td>\n",
       "      <td>Springer Science and Business Media LLC</td>\n",
       "    </tr>\n",
       "    <tr>\n",
       "      <th>10612</th>\n",
       "      <td>9d12f3a201435c9d24dc9b356283edf8bd3a234d</td>\n",
       "      <td>10.4110/in.2017.17.3.192</td>\n",
       "      <td>Exacerbation of Japanese Encephalitis by CD11c...</td>\n",
       "      <td>Japanese encephalitis (JE) is neuroinflammatio...</td>\n",
       "      <td>Choi, Jin; Kim, Jin; Patil, Ajit; Bum, Seong; ...</td>\n",
       "      <td>Immune network</td>\n",
       "      <td>2017</td>\n",
       "      <td>Exacerbation of Japanese Encephalitis by CD11c...</td>\n",
       "      <td>Immune Network</td>\n",
       "      <td>Immune Netw</td>\n",
       "      <td>2017-06-26</td>\n",
       "      <td>1598-2629; 2092-6685</td>\n",
       "      <td>The Korean Association of Immunobiologists (KA...</td>\n",
       "    </tr>\n",
       "    <tr>\n",
       "      <th>4856</th>\n",
       "      <td>5f7b5b1f4748ede29130df5606fd51f4820edc20</td>\n",
       "      <td>10.1038/srep20918</td>\n",
       "      <td>Conformational Flexibility of a Short Loop nea...</td>\n",
       "      <td>The SARS 3C-like proteinase (SARS-3CLpro), whi...</td>\n",
       "      <td>Li, Chunmei; Teng, Xin; Qi, Yifei; Tang, Bo; S...</td>\n",
       "      <td>Scientific reports</td>\n",
       "      <td>2016</td>\n",
       "      <td>Conformational Flexibility of a Short Loop nea...</td>\n",
       "      <td>NaN</td>\n",
       "      <td>NaN</td>\n",
       "      <td>NaN</td>\n",
       "      <td>NaN</td>\n",
       "      <td>NaN</td>\n",
       "    </tr>\n",
       "    <tr>\n",
       "      <th>3736</th>\n",
       "      <td>e49106784cd05d905c10780cc5dbe2a10a6badb7</td>\n",
       "      <td>10.1371/journal.ppat.1004431</td>\n",
       "      <td>Correction: Infection with MERS-CoV Causes Let...</td>\n",
       "      <td>The incorrect version of Figure 6 is published...</td>\n",
       "      <td>NaN</td>\n",
       "      <td>NaN</td>\n",
       "      <td>2014</td>\n",
       "      <td>Correction: Infection with MERS-CoV Causes Let...</td>\n",
       "      <td>PLoS Pathogens</td>\n",
       "      <td>PLoS Pathog</td>\n",
       "      <td>2014-09-09</td>\n",
       "      <td>1553-7374</td>\n",
       "      <td>Public Library of Science (PLoS)</td>\n",
       "    </tr>\n",
       "  </tbody>\n",
       "</table>\n",
       "</div>"
      ],
      "text/plain": [
       "                                            pid                           doi  \\\n",
       "8439   98e6190d06a8d8774c690be39634a1d64a926dc3          10.3390/cells8040377   \n",
       "9557   27c190c3d4fc0884a3b9d79774ee61a0c305c540                           NaN   \n",
       "884    2e2de8d6ebd368c062fed5770aa26a780bdc25b8        10.1186/1471-2334-6-82   \n",
       "10970  1cfcdcf2a3783b9adba2b091bd50c5d8ac3252ff                           NaN   \n",
       "12072  504684906ab86a5130b59c2557ec73e2226f67e7                           NaN   \n",
       "8906   04510f144938a17bf2c2a9683ce3479ff0246b94     10.1186/s12967-019-2077-y   \n",
       "8000   350bf76f2ecfc9322c9c8b59af3b7a14a6e51c0f     10.1007/s11250-018-1668-6   \n",
       "10612  9d12f3a201435c9d24dc9b356283edf8bd3a234d      10.4110/in.2017.17.3.192   \n",
       "4856   5f7b5b1f4748ede29130df5606fd51f4820edc20             10.1038/srep20918   \n",
       "3736   e49106784cd05d905c10780cc5dbe2a10a6badb7  10.1371/journal.ppat.1004431   \n",
       "\n",
       "                                                   title  \\\n",
       "8439   Genetic Diversity and Differentiation at Struc...   \n",
       "9557   In Vitro Membrane Assembly of a Polytopic, Tra...   \n",
       "884    The interferon gamma gene polymorphism +874 A/...   \n",
       "10970  International Journal of Nanomedicine Dovepres...   \n",
       "12072                                                NaN   \n",
       "8906   The protective role of microRNA-21 against cox...   \n",
       "8000   Analysis of pig trading networks and practices...   \n",
       "10612  Exacerbation of Japanese Encephalitis by CD11c...   \n",
       "4856   Conformational Flexibility of a Short Loop nea...   \n",
       "3736   Correction: Infection with MERS-CoV Causes Let...   \n",
       "\n",
       "                                                abstract  \\\n",
       "8439   Investigating adaptive potential and understan...   \n",
       "9557   In vitro integration of the polytopic, transme...   \n",
       "884    BackgroundCytokines play important roles in an...   \n",
       "10970  Influenza virus infections are a major public ...   \n",
       "12072  B ats are a major source of zoonotic viruses w...   \n",
       "8906   BackgroundThe P38 mitogen-activated protein ki...   \n",
       "8000   East Africa is undergoing rapid expansion of p...   \n",
       "10612  Japanese encephalitis (JE) is neuroinflammatio...   \n",
       "4856   The SARS 3C-like proteinase (SARS-3CLpro), whi...   \n",
       "3736   The incorrect version of Figure 6 is published...   \n",
       "\n",
       "                                                 authors  \\\n",
       "8439   Lan, Hong; Zhou, Tong; Wan, Qiu-Hong; Fang, Sh...   \n",
       "9557   Ahrem, Barbara; Hoffschulte, Hedda; Miiller, M...   \n",
       "884    Po, Wai; †1, Chong; Ip, Wk; Hoi, Gloria; Tso, ...   \n",
       "10970  Jack Hu, Che-Ming; Chen, You-Ting; Fang, Zih-S...   \n",
       "12072                                                NaN   \n",
       "8906   He, Feng; Xiao, Zonghui; Yao, Hailan; Li, Sen;...   \n",
       "8000   Atherstone, C; Galiwango, R; Grace, &amp;; Alo...   \n",
       "10612  Choi, Jin; Kim, Jin; Patil, Ajit; Bum, Seong; ...   \n",
       "4856   Li, Chunmei; Teng, Xin; Qi, Yifei; Tang, Bo; S...   \n",
       "3736                                                 NaN   \n",
       "\n",
       "                                       venue  year  \\\n",
       "8439                                   Cells  2019   \n",
       "9557                                     NaN   NaN   \n",
       "884                  BMC infectious diseases  2006   \n",
       "10970                                    NaN   NaN   \n",
       "12072                                    NaN   NaN   \n",
       "8906       Journal of Translational Medicine  2019   \n",
       "8000   Tropical Animal Health and Production  2018   \n",
       "10612                         Immune network  2017   \n",
       "4856                      Scientific reports  2016   \n",
       "3736                                     NaN  2014   \n",
       "\n",
       "                                                   tiabs  \\\n",
       "8439   Genetic Diversity and Differentiation at Struc...   \n",
       "9557   In Vitro Membrane Assembly of a Polytopic, Tra...   \n",
       "884    The interferon gamma gene polymorphism +874 A/...   \n",
       "10970  International Journal of Nanomedicine Dovepres...   \n",
       "12072  B ats are a major source of zoonotic viruses w...   \n",
       "8906   The protective role of microRNA-21 against cox...   \n",
       "8000   Analysis of pig trading networks and practices...   \n",
       "10612  Exacerbation of Japanese Encephalitis by CD11c...   \n",
       "4856   Conformational Flexibility of a Short Loop nea...   \n",
       "3736   Correction: Infection with MERS-CoV Causes Let...   \n",
       "\n",
       "                                     journal          journal-short  \\\n",
       "8439                                   Cells                  Cells   \n",
       "9557                                     NaN                    NaN   \n",
       "884                  BMC Infectious Diseases         BMC Infect Dis   \n",
       "10970                                    NaN                    NaN   \n",
       "12072                                    NaN                    NaN   \n",
       "8906       Journal of Translational Medicine           J Transl Med   \n",
       "8000   Tropical Animal Health and Production  Trop Anim Health Prod   \n",
       "10612                         Immune Network            Immune Netw   \n",
       "4856                                     NaN                    NaN   \n",
       "3736                          PLoS Pathogens            PLoS Pathog   \n",
       "\n",
       "          pubdate                 issns  \\\n",
       "8439   2019-04-25             2073-4409   \n",
       "9557          NaN                   NaN   \n",
       "884    2006-05-04             1471-2334   \n",
       "10970         NaN                   NaN   \n",
       "12072         NaN                   NaN   \n",
       "8906   2019-10-04             1479-5876   \n",
       "8000   2018-08-02  0049-4747; 1573-7438   \n",
       "10612  2017-06-26  1598-2629; 2092-6685   \n",
       "4856          NaN                   NaN   \n",
       "3736   2014-09-09             1553-7374   \n",
       "\n",
       "                                               publisher  \n",
       "8439                                             MDPI AG  \n",
       "9557                                                 NaN  \n",
       "884              Springer Science and Business Media LLC  \n",
       "10970                                                NaN  \n",
       "12072                                                NaN  \n",
       "8906             Springer Science and Business Media LLC  \n",
       "8000             Springer Science and Business Media LLC  \n",
       "10612  The Korean Association of Immunobiologists (KA...  \n",
       "4856                                                 NaN  \n",
       "3736                    Public Library of Science (PLoS)  "
      ]
     },
     "execution_count": 3,
     "metadata": {},
     "output_type": "execute_result"
    }
   ],
   "source": [
    "# df.sample(10)"
   ]
  },
  {
   "cell_type": "markdown",
   "metadata": {},
   "source": [
    "# Pre-process\n",
    "Different algorithms and different text corpora call for different kinds of pre-processing. What we are doing here is trying to make the text as easy as possible for the computer to 'understand' without destroying any valuable features in the data."
   ]
  },
  {
   "cell_type": "code",
   "execution_count": 4,
   "metadata": {},
   "outputs": [],
   "source": [
    "from gensim.models import TfidfModel, Phrases\n",
    "from gensim.models.phrases import Phraser\n",
    "from gensim.utils import deaccent\n",
    "from gensim.parsing.preprocessing import strip_short, strip_punctuation, remove_stopwords, strip_multiple_whitespaces, stem_text\n",
    "from gensim.parsing import preprocess_string\n",
    "from gensim import corpora\n",
    "from gensim import utils"
   ]
  },
  {
   "cell_type": "markdown",
   "metadata": {},
   "source": [
    "## Ngramming\n",
    "We will start by building Ngrammers. These are very simple models which learn when words tend to appear together. The typical example here is 'New York', which is 2 words, but which we treat as one. Is therefore a 'bigram'. We might also be interested in 'New York City', which is 3 words that often appear together, so that's a \"trigram\".\n",
    "\n",
    "We will run 2 processes where we first search our text for bigrams and then trigrams. Essentially, it's just the same process run twice."
   ]
  },
  {
   "cell_type": "code",
   "execution_count": 4,
   "metadata": {},
   "outputs": [
    {
     "name": "stdout",
     "output_type": "stream",
     "text": [
      "\n",
      "Training bigram detection\n",
      "0 iterations done\n",
      "10000 iterations done\n",
      "\n",
      "Training trigram detection\n",
      "0 iterations done\n",
      "10000 iterations done\n",
      "trigrams trained and saved\n"
     ]
    }
   ],
   "source": [
    "bigram_phraserpath = 'models/bigram_d2v'\n",
    "trigram_phraserpath = 'models/trigram_d2v'\n",
    "\n",
    "CUSTOM_FILTERS = [lambda x: x.lower(),\n",
    "                    deaccent,\n",
    "                    strip_punctuation,\n",
    "                    remove_stopwords, # REMOVE THIS IF YOU ARE DOING D2V BIGRAMMING!\n",
    "                    strip_multiple_whitespaces,\n",
    "                    # strip_short, #(minsize=2),\n",
    "                    stem_text # REMOVE THIS IF YOU ARE DOING D2V BIGRAMMING!\n",
    "                    ] # stem or lemmatize?\n",
    "\n",
    "# define Iterator\n",
    "\n",
    "# retrieve each text entry\n",
    "def extract_text():\n",
    "\n",
    "    for i, row in df.iterrows():\n",
    "        doi = str(row['doi'])\n",
    "        textdata = str(row['tiabs'])\n",
    "        textdata = preprocess_string(textdata, CUSTOM_FILTERS)\n",
    "        yield doi, textdata\n",
    "        if i%1000==0:\n",
    "            print(i, 'iterations done')\n",
    "\n",
    "\n",
    "# iteration 1\n",
    "print()\n",
    "print('Training bigram detection')\n",
    "documents = extract_text()\n",
    "phrases = Phrases(\n",
    "                (document[1]\n",
    "                 for document in documents),\n",
    "                    # min_count = 10,\n",
    "                    threshold = 10,\n",
    "                    common_terms = [\"of\", \"with\", \"without\",\n",
    "                                \"and\", \"or\", \"the\", \"a\"]\n",
    "                    # max_vocab_size = 1000000\n",
    "                    )\n",
    "bigram = Phraser(phrases)\n",
    "bigram.save(bigram_phraserpath)\n",
    "\n",
    "\n",
    "# iteration 2\n",
    "print()\n",
    "print('Training trigram detection')\n",
    "documents = extract_text()\n",
    "phrases = Phrases((bigram[document[1]]\n",
    "                    for document in documents),\n",
    "                    # min_count = 10,\n",
    "                    threshold = 10,\n",
    "                    # max_vocab_size = 2000000\n",
    "                    )\n",
    "trigram = Phraser(phrases)\n",
    "# save model\n",
    "trigram.save(trigram_phraserpath)\n",
    "print('trigrams trained and saved')"
   ]
  },
  {
   "cell_type": "code",
   "execution_count": 5,
   "metadata": {},
   "outputs": [],
   "source": [
    "# pre process for d2v\n",
    "from gensim.utils import deaccent\n",
    "from gensim.parsing.preprocessing import strip_short, strip_punctuation, remove_stopwords, strip_multiple_whitespaces, stem_text\n",
    "from gensim.parsing import preprocess_string\n",
    "from gensim.models import Phrases\n",
    "\n",
    "\n",
    "bigram = Phrases.load(bigram_phraserpath)\n",
    "trigram = Phrases.load(trigram_phraserpath)\n",
    "\n",
    "def pre_d2v_search(s, bigram, trigram):\n",
    "    \n",
    "    CUSTOM_FILTERS = [lambda x: x.lower(),\n",
    "                    deaccent,\n",
    "                    strip_punctuation,\n",
    "                    strip_multiple_whitespaces] \n",
    "    \n",
    "    return trigram[bigram[preprocess_string(s,filters= CUSTOM_FILTERS)]]"
   ]
  },
  {
   "cell_type": "markdown",
   "metadata": {},
   "source": [
    "# Train"
   ]
  },
  {
   "cell_type": "code",
   "execution_count": 6,
   "metadata": {
    "scrolled": true
   },
   "outputs": [],
   "source": [
    "import os\n",
    "from gensim.models.doc2vec import Doc2Vec, TaggedDocument\n",
    "from gensim.summarization.textcleaner import get_sentences\n",
    "from gensim.utils import tokenize\n",
    "import multiprocessing"
   ]
  },
  {
   "cell_type": "markdown",
   "metadata": {},
   "source": [
    "# Preparing the corpus"
   ]
  },
  {
   "cell_type": "code",
   "execution_count": 7,
   "metadata": {},
   "outputs": [],
   "source": [
    "df = df.reset_index()"
   ]
  },
  {
   "cell_type": "code",
   "execution_count": 8,
   "metadata": {},
   "outputs": [
    {
     "data": {
      "text/plain": [
       "(12617, 14)"
      ]
     },
     "execution_count": 8,
     "metadata": {},
     "output_type": "execute_result"
    }
   ],
   "source": [
    "df.shape"
   ]
  },
  {
   "cell_type": "markdown",
   "metadata": {},
   "source": [
    "This class will allow us to load our data into the doc2vec model."
   ]
  },
  {
   "cell_type": "code",
   "execution_count": 9,
   "metadata": {
    "scrolled": true
   },
   "outputs": [],
   "source": [
    "class ADTaggedDocument(object):\n",
    "    def __iter__(self):\n",
    "        \n",
    "        for i,row in df.iterrows():\n",
    "            id_ = str(row['index'])\n",
    "#             doi = str(row['doi'])\n",
    "            text_data = str(row['tiabs'])\n",
    "            tokenized = pre_d2v_search(text_data, bigram, trigram)\n",
    "            yield TaggedDocument(tokenized, [id_])        "
   ]
  },
  {
   "cell_type": "markdown",
   "metadata": {},
   "source": [
    "This is where we train the doc2vec model. "
   ]
  },
  {
   "cell_type": "code",
   "execution_count": 10,
   "metadata": {
    "scrolled": true
   },
   "outputs": [],
   "source": [
    "# COMMENT/UNCOMMENT FOR TRAINING\n",
    "\n",
    "cores = multiprocessing.cpu_count()\n",
    "\n",
    "documents = ADTaggedDocument()\n",
    "# model.build_vocab(documents)\n",
    "\n",
    "model = Doc2Vec(documents = documents,\n",
    "                    dm=0, \n",
    "                    dbow_words=1, \n",
    "                    vector_size=300, \n",
    "                    window=8, \n",
    "                    min_count=6, \n",
    "                    epochs=8, \n",
    "                    workers= cores-1\n",
    "#                     alpha=0.06,  # comment these lines to use default alpha\n",
    "#                     min_alpha=0.04\n",
    "                   )\n",
    "\n",
    "# re-initialise generator\n",
    "documents = ADTaggedDocument()\n",
    "# Now train Doc2Vec on the corpus\n",
    "model.train(documents, \n",
    "            total_examples=model.corpus_count, \n",
    "            epochs=model.epochs)\n",
    "\n",
    "\n",
    "model.save(os.path.join('models', 'd2v.model'), separately=None)"
   ]
  },
  {
   "cell_type": "code",
   "execution_count": 11,
   "metadata": {},
   "outputs": [
    {
     "data": {
      "text/plain": [
       "<gensim.models.doc2vec.Doc2Vec at 0x2a1242dac88>"
      ]
     },
     "execution_count": 11,
     "metadata": {},
     "output_type": "execute_result"
    }
   ],
   "source": [
    "model = Doc2Vec.load('models/d2v.model')\n",
    "model"
   ]
  },
  {
   "cell_type": "markdown",
   "metadata": {},
   "source": [
    "Now we transform our corpus of text data using the doc2vec model to give us a 'd2v_corpus'.  We can visualise this data to get a feel for the dataset."
   ]
  },
  {
   "cell_type": "code",
   "execution_count": 12,
   "metadata": {
    "scrolled": true
   },
   "outputs": [],
   "source": [
    "import numpy as np\n",
    "from gensim.matutils import any2sparse\n",
    "\n",
    "def iter_df(df):\n",
    "    for i, row in df.iterrows():\n",
    "#         doi = str(row['doi'])\n",
    "        id_ = str(row['index'])\n",
    "#             doi = str(row['doi'])\n",
    "        textdata = str(row['tiabs'])\n",
    "        ngrams = pre_d2v_search(textdata, bigram, trigram)\n",
    "        yield id_, ngrams\n",
    "\n",
    "\n",
    "def iter_arts(df):\n",
    "    articles = iter_df(df)\n",
    "    for article in articles:\n",
    "        textdata = article[1]\n",
    "        vec = model.infer_vector(textdata) # can't this be done as a batch/vector process? SLOW!\n",
    "        vec = any2sparse(vec, eps=1e-09)\n",
    "#         print(np.shape(vec))\n",
    "        yield vec\n",
    "        \n",
    "\n"
   ]
  },
  {
   "cell_type": "code",
   "execution_count": 13,
   "metadata": {
    "scrolled": true
   },
   "outputs": [
    {
     "ename": "ValueError",
     "evalue": "need more than 0 values to unpack",
     "output_type": "error",
     "traceback": [
      "\u001b[1;31m---------------------------------------------------------------------------\u001b[0m",
      "\u001b[1;31mValueError\u001b[0m                                Traceback (most recent call last)",
      "\u001b[1;32m<ipython-input-13-5ed400bb8684>\u001b[0m in \u001b[0;36m<module>\u001b[1;34m\u001b[0m\n\u001b[0;32m      2\u001b[0m \u001b[0mtransformed\u001b[0m \u001b[1;33m=\u001b[0m \u001b[0mcorpora\u001b[0m\u001b[1;33m.\u001b[0m\u001b[0mMmCorpus\u001b[0m\u001b[1;33m.\u001b[0m\u001b[0mserialize\u001b[0m\u001b[1;33m(\u001b[0m\u001b[1;34m'data/d2v_corpus.mm'\u001b[0m\u001b[1;33m,\u001b[0m \u001b[0miter_arts\u001b[0m\u001b[1;33m(\u001b[0m\u001b[0mdf\u001b[0m\u001b[1;33m)\u001b[0m\u001b[1;33m)\u001b[0m\u001b[1;33m\u001b[0m\u001b[1;33m\u001b[0m\u001b[0m\n\u001b[0;32m      3\u001b[0m index_d2v = similarities.Similarity('data/d2v_sims.index',\n\u001b[1;32m----> 4\u001b[1;33m                                       \u001b[0mcorpora\u001b[0m\u001b[1;33m.\u001b[0m\u001b[0mMmCorpus\u001b[0m\u001b[1;33m(\u001b[0m\u001b[1;34m'data/d2v_train_corpus.mm'\u001b[0m\u001b[1;33m)\u001b[0m\u001b[1;33m,\u001b[0m\u001b[1;33m\u001b[0m\u001b[1;33m\u001b[0m\u001b[0m\n\u001b[0m\u001b[0;32m      5\u001b[0m                                       num_features=300)\n\u001b[0;32m      6\u001b[0m \u001b[0mindex_d2v\u001b[0m\u001b[1;33m.\u001b[0m\u001b[0msave\u001b[0m\u001b[1;33m(\u001b[0m\u001b[1;33m)\u001b[0m\u001b[1;33m\u001b[0m\u001b[1;33m\u001b[0m\u001b[0m\n",
      "\u001b[1;32mc:\\users\\adamd\\onedrive\\projects\\coronavirus_pubmed\\venv\\lib\\site-packages\\gensim\\corpora\\mmcorpus.py\u001b[0m in \u001b[0;36m__init__\u001b[1;34m(self, fname)\u001b[0m\n\u001b[0;32m     64\u001b[0m         \u001b[1;31m# avoid calling super(), too confusing\u001b[0m\u001b[1;33m\u001b[0m\u001b[1;33m\u001b[0m\u001b[1;33m\u001b[0m\u001b[0m\n\u001b[0;32m     65\u001b[0m         \u001b[0mIndexedCorpus\u001b[0m\u001b[1;33m.\u001b[0m\u001b[0m__init__\u001b[0m\u001b[1;33m(\u001b[0m\u001b[0mself\u001b[0m\u001b[1;33m,\u001b[0m \u001b[0mfname\u001b[0m\u001b[1;33m)\u001b[0m\u001b[1;33m\u001b[0m\u001b[1;33m\u001b[0m\u001b[0m\n\u001b[1;32m---> 66\u001b[1;33m         \u001b[0mmatutils\u001b[0m\u001b[1;33m.\u001b[0m\u001b[0mMmReader\u001b[0m\u001b[1;33m.\u001b[0m\u001b[0m__init__\u001b[0m\u001b[1;33m(\u001b[0m\u001b[0mself\u001b[0m\u001b[1;33m,\u001b[0m \u001b[0mfname\u001b[0m\u001b[1;33m)\u001b[0m\u001b[1;33m\u001b[0m\u001b[1;33m\u001b[0m\u001b[0m\n\u001b[0m\u001b[0;32m     67\u001b[0m \u001b[1;33m\u001b[0m\u001b[0m\n\u001b[0;32m     68\u001b[0m     \u001b[1;32mdef\u001b[0m \u001b[0m__iter__\u001b[0m\u001b[1;33m(\u001b[0m\u001b[0mself\u001b[0m\u001b[1;33m)\u001b[0m\u001b[1;33m:\u001b[0m\u001b[1;33m\u001b[0m\u001b[1;33m\u001b[0m\u001b[0m\n",
      "\u001b[1;32mc:\\users\\adamd\\onedrive\\projects\\coronavirus_pubmed\\venv\\lib\\site-packages\\gensim\\corpora\\_mmreader.pyx\u001b[0m in \u001b[0;36mgensim.corpora._mmreader.MmReader.__init__\u001b[1;34m()\u001b[0m\n",
      "\u001b[1;32mc:\\users\\adamd\\onedrive\\projects\\coronavirus_pubmed\\venv\\lib\\site-packages\\gensim\\corpora\\_mmreader.pyx\u001b[0m in \u001b[0;36mgensim.corpora._mmreader.MmReader.__init__\u001b[1;34m()\u001b[0m\n",
      "\u001b[1;31mValueError\u001b[0m: need more than 0 values to unpack"
     ]
    }
   ],
   "source": [
    "from gensim import corpora, similarities\n",
    "transformed = corpora.MmCorpus.serialize('data/d2v_corpus.mm', iter_arts(df))\n",
    "index_d2v = similarities.Similarity('data/d2v_sims.index',\n",
    "                                      corpora.MmCorpus('data/d2v_train_corpus.mm'),\n",
    "                                      num_features=300)\n",
    "index_d2v.save()"
   ]
  },
  {
   "cell_type": "code",
   "execution_count": null,
   "metadata": {
    "scrolled": true
   },
   "outputs": [],
   "source": [
    "corpora.MmCorpus.serialize('data/d2v_corpus.mm', iter_arts(df))"
   ]
  },
  {
   "cell_type": "code",
   "execution_count": null,
   "metadata": {},
   "outputs": [],
   "source": []
  }
 ],
 "metadata": {
  "kernelspec": {
   "display_name": ".venv",
   "language": "python",
   "name": ".venv"
  },
  "language_info": {
   "codemirror_mode": {
    "name": "ipython",
    "version": 3
   },
   "file_extension": ".py",
   "mimetype": "text/x-python",
   "name": "python",
   "nbconvert_exporter": "python",
   "pygments_lexer": "ipython3",
   "version": "3.7.4"
  }
 },
 "nbformat": 4,
 "nbformat_minor": 4
}
