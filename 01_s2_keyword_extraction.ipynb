{
 "cells": [
  {
   "cell_type": "markdown",
   "metadata": {},
   "source": [
    "### How to get a good list of search terms?\n",
    "- tried 3 different kw extraction tools. Pytextrank and RAKE seem best at finding relevant ngrams.\n",
    "- A human will have to check the resultant lists to pick out the most useful keywords."
   ]
  },
  {
   "cell_type": "code",
   "execution_count": 1,
   "metadata": {},
   "outputs": [],
   "source": [
    "import gzip\n",
    "from bs4 import BeautifulSoup as bs\n",
    "import pandas as pd\n",
    "import datetime\n",
    "import os\n",
    "import glob"
   ]
  },
  {
   "cell_type": "markdown",
   "metadata": {},
   "source": [
    "# First, read in the data\n",
    "This is the semantic Scholar CORD data dump which was munged into a dataframe in a previous notebook.\n",
    "https://pages.semanticscholar.org/coronavirus-research"
   ]
  },
  {
   "cell_type": "code",
   "execution_count": 2,
   "metadata": {},
   "outputs": [
    {
     "data": {
      "text/plain": [
       "(12617, 14)"
      ]
     },
     "execution_count": 2,
     "metadata": {},
     "output_type": "execute_result"
    }
   ],
   "source": [
    "df = pd.read_csv('data/s2_cr_data.csv', dtype=str)\n",
    "df.shape"
   ]
  },
  {
   "cell_type": "code",
   "execution_count": 3,
   "metadata": {},
   "outputs": [
    {
     "data": {
      "text/plain": [
       "Index(['pid', 'doi', 'title', 'abstract', 'authors', 'venue', 'year', 'tiabs',\n",
       "       'journal', 'journal-short', 'pubdate', 'issns', 'publisher', 'pre'],\n",
       "      dtype='object')"
      ]
     },
     "execution_count": 3,
     "metadata": {},
     "output_type": "execute_result"
    }
   ],
   "source": [
    "df.columns"
   ]
  },
  {
   "cell_type": "markdown",
   "metadata": {},
   "source": [
    "# Exploratory Analysis\n",
    "We've already done some exploration of the data in a previous notebook, but we can check some things here. "
   ]
  },
  {
   "cell_type": "code",
   "execution_count": 4,
   "metadata": {},
   "outputs": [
    {
     "data": {
      "text/plain": [
       "2018    1051\n",
       "2019     955\n",
       "2017     913\n",
       "2016     810\n",
       "2015     734\n",
       "2014     489\n",
       "2013     432\n",
       "2012     407\n",
       "2011     340\n",
       "2010     234\n",
       "2009     186\n",
       "2008     112\n",
       "2007      81\n",
       "2020      63\n",
       "2006      63\n",
       "2005      51\n",
       "2004      27\n",
       "2003      17\n",
       "1994      12\n",
       "1992      11\n",
       "1993       9\n",
       "1991       9\n",
       "1990       7\n",
       "1996       7\n",
       "1995       7\n",
       "1997       6\n",
       "1989       6\n",
       "1999       5\n",
       "None       3\n",
       "1998       3\n",
       "1988       3\n",
       "1985       3\n",
       "1970       2\n",
       "2001       2\n",
       "1981       2\n",
       "1987       2\n",
       "2000       2\n",
       "1986       2\n",
       "1982       2\n",
       "1974       1\n",
       "2002       1\n",
       "1967       1\n",
       "1980       1\n",
       "1984       1\n",
       "1957       1\n",
       "1969       1\n",
       "1965       1\n",
       "Name: year, dtype: int64"
      ]
     },
     "execution_count": 4,
     "metadata": {},
     "output_type": "execute_result"
    }
   ],
   "source": [
    "# what time-frame does this cover?\n",
    "# consider limiting to recent years\n",
    "df.year.value_counts()"
   ]
  },
  {
   "cell_type": "code",
   "execution_count": 5,
   "metadata": {},
   "outputs": [],
   "source": [
    "# limit years\n",
    "# df=df[df['year'].isin(set([str(x) for x in range(2000,2021)]))\n",
    "# df.shape"
   ]
  },
  {
   "cell_type": "markdown",
   "metadata": {},
   "source": [
    "# What keywords can we find with SpaCy?\n",
    "Adapted from: https://medium.com/better-programming/extract-keywords-using-spacy-in-python-4a8415478fbf"
   ]
  },
  {
   "cell_type": "code",
   "execution_count": 6,
   "metadata": {},
   "outputs": [],
   "source": [
    "# !pip install spacy\n",
    "# !python -m spacy download en_core_web_lg\n",
    "# !python -m spacy validate"
   ]
  },
  {
   "cell_type": "code",
   "execution_count": 7,
   "metadata": {},
   "outputs": [],
   "source": [
    "import spacy\n",
    "from collections import Counter\n",
    "from string import punctuation"
   ]
  },
  {
   "cell_type": "code",
   "execution_count": 8,
   "metadata": {},
   "outputs": [],
   "source": [
    "import en_core_web_lg\n",
    "nlp = en_core_web_lg.load()"
   ]
  },
  {
   "cell_type": "code",
   "execution_count": 9,
   "metadata": {},
   "outputs": [],
   "source": [
    "def get_hotwords(text):\n",
    "    result = []\n",
    "    pos_tag = ['PROPN', 'ADJ', 'NOUN'] \n",
    "    doc = nlp(text.lower()) \n",
    "    for token in doc:\n",
    "        if(token.text in nlp.Defaults.stop_words or token.text in punctuation):\n",
    "            continue\n",
    "        if(token.pos_ in pos_tag):\n",
    "            result.append(token.text)\n",
    "                \n",
    "    return result "
   ]
  },
  {
   "cell_type": "code",
   "execution_count": 10,
   "metadata": {},
   "outputs": [
    {
     "data": {
      "text/plain": [
       "1540036"
      ]
     },
     "execution_count": 10,
     "metadata": {},
     "output_type": "execute_result"
    }
   ],
   "source": [
    "hotwords = []\n",
    "\n",
    "for abstract in df['tiabs']:\n",
    "    hotwords.extend(get_hotwords(abstract))\n",
    "len(hotwords)    \n",
    "#     hashtags = [('#' + x[0]) for x in Counter(get_hotwords).most_common(5)]\n",
    "# print(' '.join(hashtags))"
   ]
  },
  {
   "cell_type": "code",
   "execution_count": 11,
   "metadata": {},
   "outputs": [
    {
     "data": {
      "text/plain": [
       "[('virus', 16383),\n",
       " ('infection', 11857),\n",
       " ('viral', 10063),\n",
       " ('respiratory', 8966),\n",
       " ('cells', 8368),\n",
       " ('disease', 7809),\n",
       " ('viruses', 7614),\n",
       " ('human', 7561),\n",
       " ('influenza', 7164),\n",
       " ('study', 7160),\n",
       " ('patients', 7106),\n",
       " ('health', 6633),\n",
       " ('protein', 6417),\n",
       " ('cell', 6224),\n",
       " ('data', 5394),\n",
       " ('rna', 4870),\n",
       " ('results', 4811),\n",
       " ('infections', 4596),\n",
       " ('analysis', 4544),\n",
       " ('cov', 4522),\n",
       " ('host', 4418),\n",
       " ('clinical', 4299),\n",
       " ('cases', 4133),\n",
       " ('sars', 4070),\n",
       " ('high', 4025),\n",
       " ('expression', 3938),\n",
       " ('infectious', 3808),\n",
       " ('proteins', 3743),\n",
       " ('time', 3740),\n",
       " ('response', 3721)]"
      ]
     },
     "execution_count": 11,
     "metadata": {},
     "output_type": "execute_result"
    }
   ],
   "source": [
    "common_hotwords = [x for x in Counter(hotwords).most_common(30)]\n",
    "common_hotwords"
   ]
  },
  {
   "cell_type": "code",
   "execution_count": 12,
   "metadata": {},
   "outputs": [],
   "source": [
    "hotdf = pd.DataFrame(common_hotwords, columns = ['kw','count'])\n",
    "hotdf['algo'] = 'hotwords'"
   ]
  },
  {
   "cell_type": "markdown",
   "metadata": {},
   "source": [
    "Mostly, this is giving us single words rather than phrases. A lot of these are too broad to discriminate COVID-19-related research from other research."
   ]
  },
  {
   "cell_type": "markdown",
   "metadata": {},
   "source": [
    "# Pytextrank\n",
    "This is a different model that we can also use with SpaCy for finding keywords and keyphrases. \n",
    "Adapted from: https://pypi.org/project/pytextrank/"
   ]
  },
  {
   "cell_type": "code",
   "execution_count": 13,
   "metadata": {},
   "outputs": [],
   "source": [
    "# !pip install pytextrank"
   ]
  },
  {
   "cell_type": "code",
   "execution_count": 14,
   "metadata": {},
   "outputs": [],
   "source": [
    "import pytextrank\n",
    "# nlp = spacy.load('en_core_web_sm')\n",
    "tr = pytextrank.TextRank()\n",
    "nlp.add_pipe(tr.PipelineComponent, name='textrank', last=True)"
   ]
  },
  {
   "cell_type": "code",
   "execution_count": 15,
   "metadata": {},
   "outputs": [
    {
     "data": {
      "text/plain": [
       "(721485, 2)"
      ]
     },
     "execution_count": 15,
     "metadata": {},
     "output_type": "execute_result"
    }
   ],
   "source": [
    "keyphrases = []\n",
    "for abstract in df['tiabs']:\n",
    "    doc = nlp(abstract)\n",
    "    keyphrases.extend([(p.text,i) for i,p in enumerate(doc._.phrases)])\n",
    "pytr = pd.DataFrame((keyphrases), columns = ['kw','rank'])\n",
    "pytr.shape"
   ]
  },
  {
   "cell_type": "code",
   "execution_count": 16,
   "metadata": {},
   "outputs": [],
   "source": [
    "pytr = pytr[pytr['rank']<5].groupby('kw').count().sort_values('rank', ascending = False).reset_index()"
   ]
  },
  {
   "cell_type": "code",
   "execution_count": 17,
   "metadata": {},
   "outputs": [
    {
     "data": {
      "text/html": [
       "<div>\n",
       "<style scoped>\n",
       "    .dataframe tbody tr th:only-of-type {\n",
       "        vertical-align: middle;\n",
       "    }\n",
       "\n",
       "    .dataframe tbody tr th {\n",
       "        vertical-align: top;\n",
       "    }\n",
       "\n",
       "    .dataframe thead th {\n",
       "        text-align: right;\n",
       "    }\n",
       "</style>\n",
       "<table border=\"1\" class=\"dataframe\">\n",
       "  <thead>\n",
       "    <tr style=\"text-align: right;\">\n",
       "      <th></th>\n",
       "      <th>kw</th>\n",
       "      <th>count</th>\n",
       "    </tr>\n",
       "  </thead>\n",
       "  <tbody>\n",
       "    <tr>\n",
       "      <th>0</th>\n",
       "      <td>viruses</td>\n",
       "      <td>252</td>\n",
       "    </tr>\n",
       "    <tr>\n",
       "      <th>1</th>\n",
       "      <td>respiratory viruses</td>\n",
       "      <td>172</td>\n",
       "    </tr>\n",
       "    <tr>\n",
       "      <th>2</th>\n",
       "      <td>respiratory syncytial virus</td>\n",
       "      <td>169</td>\n",
       "    </tr>\n",
       "    <tr>\n",
       "      <th>3</th>\n",
       "      <td>middle east respiratory syndrome coronavirus</td>\n",
       "      <td>163</td>\n",
       "    </tr>\n",
       "    <tr>\n",
       "      <th>4</th>\n",
       "      <td>patients</td>\n",
       "      <td>159</td>\n",
       "    </tr>\n",
       "  </tbody>\n",
       "</table>\n",
       "</div>"
      ],
      "text/plain": [
       "                                             kw  count\n",
       "0                                       viruses    252\n",
       "1                           respiratory viruses    172\n",
       "2                   respiratory syncytial virus    169\n",
       "3  middle east respiratory syndrome coronavirus    163\n",
       "4                                      patients    159"
      ]
     },
     "execution_count": 17,
     "metadata": {},
     "output_type": "execute_result"
    }
   ],
   "source": [
    "pytr.columns= ['kw','count']\n",
    "pytr.head()"
   ]
  },
  {
   "cell_type": "code",
   "execution_count": 18,
   "metadata": {},
   "outputs": [],
   "source": [
    "# Counter(keyphrases).most_common(100)"
   ]
  },
  {
   "cell_type": "code",
   "execution_count": 19,
   "metadata": {},
   "outputs": [],
   "source": [
    "pytr['algo'] = 'pytextrank'"
   ]
  },
  {
   "cell_type": "markdown",
   "metadata": {},
   "source": [
    "This is much better. We're getting a list of phrases (or ngrams) which seem quite relevant to the coronavirus outbreak. There will be some need to sort through these manually."
   ]
  },
  {
   "cell_type": "markdown",
   "metadata": {},
   "source": [
    "# RAKE - Rapid Automatic Keyword Extraction\n",
    "Adapted from: https://pypi.org/project/rake-nltk/"
   ]
  },
  {
   "cell_type": "code",
   "execution_count": 20,
   "metadata": {},
   "outputs": [],
   "source": [
    "# !pip install rake_nltk"
   ]
  },
  {
   "cell_type": "code",
   "execution_count": 21,
   "metadata": {},
   "outputs": [
    {
     "data": {
      "text/html": [
       "<div>\n",
       "<style scoped>\n",
       "    .dataframe tbody tr th:only-of-type {\n",
       "        vertical-align: middle;\n",
       "    }\n",
       "\n",
       "    .dataframe tbody tr th {\n",
       "        vertical-align: top;\n",
       "    }\n",
       "\n",
       "    .dataframe thead th {\n",
       "        text-align: right;\n",
       "    }\n",
       "</style>\n",
       "<table border=\"1\" class=\"dataframe\">\n",
       "  <thead>\n",
       "    <tr style=\"text-align: right;\">\n",
       "      <th></th>\n",
       "      <th>kw</th>\n",
       "      <th>rank</th>\n",
       "    </tr>\n",
       "  </thead>\n",
       "  <tbody>\n",
       "    <tr>\n",
       "      <th>0</th>\n",
       "      <td>extremely high positive predictive value</td>\n",
       "      <td>0</td>\n",
       "    </tr>\n",
       "    <tr>\n",
       "      <th>1</th>\n",
       "      <td>aligning short sequence reads</td>\n",
       "      <td>1</td>\n",
       "    </tr>\n",
       "    <tr>\n",
       "      <th>2</th>\n",
       "      <td>delivering highly accurate results</td>\n",
       "      <td>2</td>\n",
       "    </tr>\n",
       "    <tr>\n",
       "      <th>3</th>\n",
       "      <td>illumina basespace app</td>\n",
       "      <td>3</td>\n",
       "    </tr>\n",
       "    <tr>\n",
       "      <th>4</th>\n",
       "      <td>empirical benchmarking alongside</td>\n",
       "      <td>4</td>\n",
       "    </tr>\n",
       "  </tbody>\n",
       "</table>\n",
       "</div>"
      ],
      "text/plain": [
       "                                         kw  rank\n",
       "0  extremely high positive predictive value     0\n",
       "1             aligning short sequence reads     1\n",
       "2        delivering highly accurate results     2\n",
       "3                    illumina basespace app     3\n",
       "4          empirical benchmarking alongside     4"
      ]
     },
     "execution_count": 21,
     "metadata": {},
     "output_type": "execute_result"
    }
   ],
   "source": [
    "from rake_nltk import Rake\n",
    "rake_kws = []\n",
    "r = Rake()\n",
    "for abstract in df['tiabs']:\n",
    "    r.extract_keywords_from_text(abstract)\n",
    "    rake_kws.extend([(keyphrase,i) for i, keyphrase in enumerate(r.get_ranked_phrases())])\n",
    "rake = pd.DataFrame(rake_kws, columns = ['kw','rank'])\n",
    "rake.head()"
   ]
  },
  {
   "cell_type": "code",
   "execution_count": 22,
   "metadata": {},
   "outputs": [
    {
     "data": {
      "text/html": [
       "<div>\n",
       "<style scoped>\n",
       "    .dataframe tbody tr th:only-of-type {\n",
       "        vertical-align: middle;\n",
       "    }\n",
       "\n",
       "    .dataframe tbody tr th {\n",
       "        vertical-align: top;\n",
       "    }\n",
       "\n",
       "    .dataframe thead th {\n",
       "        text-align: right;\n",
       "    }\n",
       "</style>\n",
       "<table border=\"1\" class=\"dataframe\">\n",
       "  <thead>\n",
       "    <tr style=\"text-align: right;\">\n",
       "      <th></th>\n",
       "      <th>rank</th>\n",
       "    </tr>\n",
       "    <tr>\n",
       "      <th>kw</th>\n",
       "      <th></th>\n",
       "    </tr>\n",
       "  </thead>\n",
       "  <tbody>\n",
       "    <tr>\n",
       "      <th>structured rna elements may control virus replication</th>\n",
       "      <td>0.0</td>\n",
       "    </tr>\n",
       "    <tr>\n",
       "      <th>evaluated among elderly chinese subjects (≥ 60 years</th>\n",
       "      <td>0.0</td>\n",
       "    </tr>\n",
       "    <tr>\n",
       "      <th>evaluated 49 published computational classification workflows</th>\n",
       "      <td>0.0</td>\n",
       "    </tr>\n",
       "    <tr>\n",
       "      <th>supporting information incorporating uracil</th>\n",
       "      <td>0.0</td>\n",
       "    </tr>\n",
       "    <tr>\n",
       "      <th>evaluate pseudoknot free energies using novel parameters</th>\n",
       "      <td>0.0</td>\n",
       "    </tr>\n",
       "  </tbody>\n",
       "</table>\n",
       "</div>"
      ],
      "text/plain": [
       "                                                    rank\n",
       "kw                                                      \n",
       "structured rna elements may control virus repli...   0.0\n",
       "evaluated among elderly chinese subjects (≥ 60 ...   0.0\n",
       "evaluated 49 published computational classifica...   0.0\n",
       "supporting information incorporating uracil          0.0\n",
       "evaluate pseudoknot free energies using novel p...   0.0"
      ]
     },
     "execution_count": 22,
     "metadata": {},
     "output_type": "execute_result"
    }
   ],
   "source": [
    "rake[rake['rank']<=5].groupby('kw').mean().sort_values('rank').head()"
   ]
  },
  {
   "cell_type": "code",
   "execution_count": 23,
   "metadata": {},
   "outputs": [
    {
     "data": {
      "text/html": [
       "<div>\n",
       "<style scoped>\n",
       "    .dataframe tbody tr th:only-of-type {\n",
       "        vertical-align: middle;\n",
       "    }\n",
       "\n",
       "    .dataframe tbody tr th {\n",
       "        vertical-align: top;\n",
       "    }\n",
       "\n",
       "    .dataframe thead th {\n",
       "        text-align: right;\n",
       "    }\n",
       "</style>\n",
       "<table border=\"1\" class=\"dataframe\">\n",
       "  <thead>\n",
       "    <tr style=\"text-align: right;\">\n",
       "      <th></th>\n",
       "      <th>kw</th>\n",
       "      <th>count</th>\n",
       "    </tr>\n",
       "  </thead>\n",
       "  <tbody>\n",
       "    <tr>\n",
       "      <th>0</th>\n",
       "      <td>severe acute respiratory syndrome</td>\n",
       "      <td>324</td>\n",
       "    </tr>\n",
       "    <tr>\n",
       "      <th>1</th>\n",
       "      <td>middle east respiratory syndrome coronavirus</td>\n",
       "      <td>319</td>\n",
       "    </tr>\n",
       "    <tr>\n",
       "      <th>2</th>\n",
       "      <td>middle east respiratory syndrome</td>\n",
       "      <td>163</td>\n",
       "    </tr>\n",
       "    <tr>\n",
       "      <th>3</th>\n",
       "      <td>porcine epidemic diarrhea virus</td>\n",
       "      <td>122</td>\n",
       "    </tr>\n",
       "    <tr>\n",
       "      <th>4</th>\n",
       "      <td>severe acute respiratory syndrome coronavirus</td>\n",
       "      <td>108</td>\n",
       "    </tr>\n",
       "  </tbody>\n",
       "</table>\n",
       "</div>"
      ],
      "text/plain": [
       "                                              kw  count\n",
       "0              severe acute respiratory syndrome    324\n",
       "1   middle east respiratory syndrome coronavirus    319\n",
       "2               middle east respiratory syndrome    163\n",
       "3                porcine epidemic diarrhea virus    122\n",
       "4  severe acute respiratory syndrome coronavirus    108"
      ]
     },
     "execution_count": 23,
     "metadata": {},
     "output_type": "execute_result"
    }
   ],
   "source": [
    "rows= Counter([x[0] for x in rake_kws if x[1]<5]).most_common(100)\n",
    "columns = ['kw','count']\n",
    "\n",
    "rakedf = pd.DataFrame(rows,columns=columns)\n",
    "rakedf.head()"
   ]
  },
  {
   "cell_type": "code",
   "execution_count": 24,
   "metadata": {},
   "outputs": [
    {
     "data": {
      "text/html": [
       "<div>\n",
       "<style scoped>\n",
       "    .dataframe tbody tr th:only-of-type {\n",
       "        vertical-align: middle;\n",
       "    }\n",
       "\n",
       "    .dataframe tbody tr th {\n",
       "        vertical-align: top;\n",
       "    }\n",
       "\n",
       "    .dataframe thead th {\n",
       "        text-align: right;\n",
       "    }\n",
       "</style>\n",
       "<table border=\"1\" class=\"dataframe\">\n",
       "  <thead>\n",
       "    <tr style=\"text-align: right;\">\n",
       "      <th></th>\n",
       "      <th>kw</th>\n",
       "      <th>count</th>\n",
       "    </tr>\n",
       "  </thead>\n",
       "  <tbody>\n",
       "    <tr>\n",
       "      <th>0</th>\n",
       "      <td>severe acute respiratory syndrome</td>\n",
       "      <td>324</td>\n",
       "    </tr>\n",
       "    <tr>\n",
       "      <th>1</th>\n",
       "      <td>middle east respiratory syndrome coronavirus</td>\n",
       "      <td>319</td>\n",
       "    </tr>\n",
       "    <tr>\n",
       "      <th>2</th>\n",
       "      <td>middle east respiratory syndrome</td>\n",
       "      <td>163</td>\n",
       "    </tr>\n",
       "    <tr>\n",
       "      <th>3</th>\n",
       "      <td>porcine epidemic diarrhea virus</td>\n",
       "      <td>122</td>\n",
       "    </tr>\n",
       "    <tr>\n",
       "      <th>4</th>\n",
       "      <td>severe acute respiratory syndrome coronavirus</td>\n",
       "      <td>108</td>\n",
       "    </tr>\n",
       "    <tr>\n",
       "      <th>...</th>\n",
       "      <td>...</td>\n",
       "      <td>...</td>\n",
       "    </tr>\n",
       "    <tr>\n",
       "      <th>95</th>\n",
       "      <td>acute respiratory infection</td>\n",
       "      <td>6</td>\n",
       "    </tr>\n",
       "    <tr>\n",
       "      <th>96</th>\n",
       "      <td>acquired immune deficiency syndrome</td>\n",
       "      <td>6</td>\n",
       "    </tr>\n",
       "    <tr>\n",
       "      <th>97</th>\n",
       "      <td>related cell adhesion molecule 1</td>\n",
       "      <td>6</td>\n",
       "    </tr>\n",
       "    <tr>\n",
       "      <th>98</th>\n",
       "      <td>time quantitative polymerase chain reaction</td>\n",
       "      <td>6</td>\n",
       "    </tr>\n",
       "    <tr>\n",
       "      <th>99</th>\n",
       "      <td>upper respiratory tract infection</td>\n",
       "      <td>6</td>\n",
       "    </tr>\n",
       "  </tbody>\n",
       "</table>\n",
       "<p>100 rows × 2 columns</p>\n",
       "</div>"
      ],
      "text/plain": [
       "                                               kw  count\n",
       "0               severe acute respiratory syndrome    324\n",
       "1    middle east respiratory syndrome coronavirus    319\n",
       "2                middle east respiratory syndrome    163\n",
       "3                 porcine epidemic diarrhea virus    122\n",
       "4   severe acute respiratory syndrome coronavirus    108\n",
       "..                                            ...    ...\n",
       "95                    acute respiratory infection      6\n",
       "96            acquired immune deficiency syndrome      6\n",
       "97               related cell adhesion molecule 1      6\n",
       "98    time quantitative polymerase chain reaction      6\n",
       "99              upper respiratory tract infection      6\n",
       "\n",
       "[100 rows x 2 columns]"
      ]
     },
     "execution_count": 24,
     "metadata": {},
     "output_type": "execute_result"
    }
   ],
   "source": [
    "rakedf"
   ]
  },
  {
   "cell_type": "code",
   "execution_count": 25,
   "metadata": {},
   "outputs": [],
   "source": [
    "rakedf['algo'] = 'RAKE'"
   ]
  },
  {
   "cell_type": "markdown",
   "metadata": {},
   "source": [
    "Also a good list of ngrams which we can use for coronavirus searches. "
   ]
  },
  {
   "cell_type": "markdown",
   "metadata": {},
   "source": [
    "## Write out to file\n",
    "Concatenate all 3 of the keyword lists we produced above into a spreadsheet and output to xlsx."
   ]
  },
  {
   "cell_type": "code",
   "execution_count": 26,
   "metadata": {},
   "outputs": [
    {
     "data": {
      "text/html": [
       "<div>\n",
       "<style scoped>\n",
       "    .dataframe tbody tr th:only-of-type {\n",
       "        vertical-align: middle;\n",
       "    }\n",
       "\n",
       "    .dataframe tbody tr th {\n",
       "        vertical-align: top;\n",
       "    }\n",
       "\n",
       "    .dataframe thead th {\n",
       "        text-align: right;\n",
       "    }\n",
       "</style>\n",
       "<table border=\"1\" class=\"dataframe\">\n",
       "  <thead>\n",
       "    <tr style=\"text-align: right;\">\n",
       "      <th></th>\n",
       "      <th>kw</th>\n",
       "      <th>count</th>\n",
       "      <th>algo</th>\n",
       "    </tr>\n",
       "  </thead>\n",
       "  <tbody>\n",
       "    <tr>\n",
       "      <th>0</th>\n",
       "      <td>viruses</td>\n",
       "      <td>252</td>\n",
       "      <td>pytextrank</td>\n",
       "    </tr>\n",
       "    <tr>\n",
       "      <th>1</th>\n",
       "      <td>respiratory viruses</td>\n",
       "      <td>172</td>\n",
       "      <td>pytextrank</td>\n",
       "    </tr>\n",
       "    <tr>\n",
       "      <th>2</th>\n",
       "      <td>respiratory syncytial virus</td>\n",
       "      <td>169</td>\n",
       "      <td>pytextrank</td>\n",
       "    </tr>\n",
       "    <tr>\n",
       "      <th>3</th>\n",
       "      <td>middle east respiratory syndrome coronavirus</td>\n",
       "      <td>163</td>\n",
       "      <td>pytextrank</td>\n",
       "    </tr>\n",
       "    <tr>\n",
       "      <th>4</th>\n",
       "      <td>patients</td>\n",
       "      <td>159</td>\n",
       "      <td>pytextrank</td>\n",
       "    </tr>\n",
       "    <tr>\n",
       "      <th>...</th>\n",
       "      <td>...</td>\n",
       "      <td>...</td>\n",
       "      <td>...</td>\n",
       "    </tr>\n",
       "    <tr>\n",
       "      <th>95</th>\n",
       "      <td>acute respiratory infection</td>\n",
       "      <td>6</td>\n",
       "      <td>RAKE</td>\n",
       "    </tr>\n",
       "    <tr>\n",
       "      <th>96</th>\n",
       "      <td>acquired immune deficiency syndrome</td>\n",
       "      <td>6</td>\n",
       "      <td>RAKE</td>\n",
       "    </tr>\n",
       "    <tr>\n",
       "      <th>97</th>\n",
       "      <td>related cell adhesion molecule 1</td>\n",
       "      <td>6</td>\n",
       "      <td>RAKE</td>\n",
       "    </tr>\n",
       "    <tr>\n",
       "      <th>98</th>\n",
       "      <td>time quantitative polymerase chain reaction</td>\n",
       "      <td>6</td>\n",
       "      <td>RAKE</td>\n",
       "    </tr>\n",
       "    <tr>\n",
       "      <th>99</th>\n",
       "      <td>upper respiratory tract infection</td>\n",
       "      <td>6</td>\n",
       "      <td>RAKE</td>\n",
       "    </tr>\n",
       "  </tbody>\n",
       "</table>\n",
       "<p>43238 rows × 3 columns</p>\n",
       "</div>"
      ],
      "text/plain": [
       "                                              kw  count        algo\n",
       "0                                        viruses    252  pytextrank\n",
       "1                            respiratory viruses    172  pytextrank\n",
       "2                    respiratory syncytial virus    169  pytextrank\n",
       "3   middle east respiratory syndrome coronavirus    163  pytextrank\n",
       "4                                       patients    159  pytextrank\n",
       "..                                           ...    ...         ...\n",
       "95                   acute respiratory infection      6        RAKE\n",
       "96           acquired immune deficiency syndrome      6        RAKE\n",
       "97              related cell adhesion molecule 1      6        RAKE\n",
       "98   time quantitative polymerase chain reaction      6        RAKE\n",
       "99             upper respiratory tract infection      6        RAKE\n",
       "\n",
       "[43238 rows x 3 columns]"
      ]
     },
     "execution_count": 26,
     "metadata": {},
     "output_type": "execute_result"
    }
   ],
   "source": [
    "out = pd.concat([\n",
    "    pytr,\n",
    "    rakedf,\n",
    "#     hotdf  # I'm commenting this out because I don't think the keywords here were very useful\n",
    "])\n",
    "out"
   ]
  },
  {
   "cell_type": "markdown",
   "metadata": {},
   "source": [
    "This is fairly small and might be ok to put in github for sharing purposes. Large amounts of data shouldn't go in github."
   ]
  },
  {
   "cell_type": "code",
   "execution_count": 27,
   "metadata": {},
   "outputs": [],
   "source": [
    "out.to_excel('output/keyword_list.xlsx')"
   ]
  },
  {
   "cell_type": "code",
   "execution_count": null,
   "metadata": {},
   "outputs": [],
   "source": []
  }
 ],
 "metadata": {
  "kernelspec": {
   "display_name": ".venv",
   "language": "python",
   "name": ".venv"
  },
  "language_info": {
   "codemirror_mode": {
    "name": "ipython",
    "version": 3
   },
   "file_extension": ".py",
   "mimetype": "text/x-python",
   "name": "python",
   "nbconvert_exporter": "python",
   "pygments_lexer": "ipython3",
   "version": "3.7.4"
  }
 },
 "nbformat": 4,
 "nbformat_minor": 4
}
