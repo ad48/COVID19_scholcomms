{
 "cells": [
  {
   "cell_type": "markdown",
   "metadata": {},
   "source": [
    "# Objective\n",
    "Create a simple process for making a list of Coronavirus-related papers using the Microsoft Academic Graph.\n",
    "\n",
    "If possible, also find papers on health-policy and health-education. \n",
    "\n",
    "## Process\n",
    "1. Start with a list of  relevant papers after searching Microsoft Academic. Retrieve the PaperIds\n",
    "2. Pull the details of the papers from the MAG\n",
    "3. Find related FieldsOfStudy\n",
    "4. Optionally, also find the _children_ of those FieldsOfStudy\n",
    "5. Use those FieldsOfStudy to find more related papers\n",
    "6. Filter those papers for SAGE papers."
   ]
  },
  {
   "cell_type": "code",
   "execution_count": 74,
   "metadata": {},
   "outputs": [],
   "source": [
    "%matplotlib inline\n",
    "import pandas as pd\n",
    "import numpy as np\n",
    "import json"
   ]
  },
  {
   "cell_type": "code",
   "execution_count": 75,
   "metadata": {},
   "outputs": [],
   "source": [
    "import os"
   ]
  },
  {
   "cell_type": "markdown",
   "metadata": {},
   "source": [
    "# Retrieve the data\n",
    "1. Peform a basic search \n",
    "> https://academic.microsoft.com/search?q=coronavirus%20covid-19%20pandemic&f=&orderBy=0&skip=0&take=10\n",
    "2. Click the quote marks to build a reference list\n",
    "<br>\n",
    "<img src=\"untitled.png\">\n",
    "3. Download in MS Word format as an xml file\n",
    "<br>\n",
    "<img src = \"untitled2.png\">"
   ]
  },
  {
   "cell_type": "markdown",
   "metadata": {},
   "source": [
    "Read in the XML data and parse out the MAG PaperIds "
   ]
  },
  {
   "cell_type": "code",
   "execution_count": 76,
   "metadata": {},
   "outputs": [
    {
     "data": {
      "text/plain": [
       "40"
      ]
     },
     "execution_count": 76,
     "metadata": {},
     "output_type": "execute_result"
    }
   ],
   "source": [
    "from bs4 import BeautifulSoup as bs\n",
    "with open('MSA_CV_refs.xml', 'r', encoding = 'utf-8') as f:\n",
    "    soup = bs(f.read(),'lxml')\n",
    "pids= [x.text[x.text.rfind('/')+1:] for x in soup.find_all('url')]\n",
    "len(pids)"
   ]
  },
  {
   "cell_type": "markdown",
   "metadata": {},
   "source": [
    "# now connect to sql"
   ]
  },
  {
   "cell_type": "code",
   "execution_count": 78,
   "metadata": {},
   "outputs": [],
   "source": [
    "from sqlalchemy import create_engine\n",
    "def retrieve_sql_data(sql):\n",
    "    dialect = 'mssql'\n",
    "    driver = 'pyodbc'\n",
    "    driver_string = \"ODBC+Driver+17+for+SQL+Server\"\n",
    "    username = os.environ['SQL_USER']\n",
    "    password = os.environ['SQL_PASS']\n",
    "    host = os.environ['SQL_DATALAKE_SVR']\n",
    "    port = '1433'\n",
    "    database = os.environ['SQL_DATALAKE_DB']\n",
    "\n",
    "    con_s = f\"{dialect}+{driver}://{username}:{password}@{host}:{port}/{database}?driver={driver_string}&trusted_connection=yes\"\n",
    "    engine = create_engine(con_s)\n",
    "    connection = engine.connect()\n",
    "    df = pd.read_sql(sql,connection)\n",
    "    connection.close()\n",
    "    return df"
   ]
  },
  {
   "cell_type": "markdown",
   "metadata": {},
   "source": [
    "## Find related fieldsofstudy"
   ]
  },
  {
   "cell_type": "markdown",
   "metadata": {},
   "source": [
    "Get all of the FieldsOfStudy associated with the papers (note that this just gets the Ids of the fieldsofstudy and their scores, but not their names)"
   ]
  },
  {
   "cell_type": "code",
   "execution_count": 82,
   "metadata": {},
   "outputs": [
    {
     "name": "stdout",
     "output_type": "stream",
     "text": [
      "Wall time: 17.2 s\n"
     ]
    }
   ],
   "source": [
    "%%time\n",
    "pids = papers['PaperId'].tolist()\n",
    "s = \"( \"+ \", \".join([\"'\"+str(x)+\"'\" for x in pids]) + \")\"\n",
    "sql = \"\"\"\n",
    "        SELECT * FROM [mag].[PaperFieldsOfStudy] WHERE PaperId IN {}\n",
    "    \"\"\".format(s)\n",
    "pfos = retrieve_sql_data(sql)"
   ]
  },
  {
   "cell_type": "code",
   "execution_count": 83,
   "metadata": {},
   "outputs": [
    {
     "data": {
      "text/plain": [
       "<matplotlib.axes._subplots.AxesSubplot at 0x229c82b8348>"
      ]
     },
     "execution_count": 83,
     "metadata": {},
     "output_type": "execute_result"
    },
    {
     "data": {
      "image/png": "[encoded data removed]",
      "text/plain": [
       "<Figure size 432x288 with 1 Axes>"
      ]
     },
     "metadata": {
      "needs_background": "light"
     },
     "output_type": "display_data"
    }
   ],
   "source": [
    "pfos['FieldOfStudyId'].value_counts().hist(bins = 100)"
   ]
  },
  {
   "cell_type": "code",
   "execution_count": 84,
   "metadata": {},
   "outputs": [],
   "source": [
    "# optionally filter fields of study to only include fields that appear more than n times\n",
    "# in the input xml\n",
    "vc = pd.DataFrame(pfos['FieldOfStudyId'].value_counts(ascending = False))\n",
    "vc.columns = ['count_in_orig_ls']\n",
    "# greater than n\n",
    "# n = 1\n",
    "# gtn = vc[vc['FieldOfStudyId']>n].index.tolist()"
   ]
  },
  {
   "cell_type": "markdown",
   "metadata": {},
   "source": [
    "Filter for fields with high scores only."
   ]
  },
  {
   "cell_type": "code",
   "execution_count": 85,
   "metadata": {},
   "outputs": [
    {
     "data": {
      "text/plain": [
       "<matplotlib.axes._subplots.AxesSubplot at 0x229c861bf48>"
      ]
     },
     "execution_count": 85,
     "metadata": {},
     "output_type": "execute_result"
    },
    {
     "data": {
      "image/png": "[encoded data removed]",
      "text/plain": [
       "<Figure size 432x288 with 1 Axes>"
      ]
     },
     "metadata": {
      "needs_background": "light"
     },
     "output_type": "display_data"
    }
   ],
   "source": [
    "pfos['Score'].hist(bins=50)"
   ]
  },
  {
   "cell_type": "code",
   "execution_count": 86,
   "metadata": {},
   "outputs": [
    {
     "data": {
      "text/plain": [
       "(216, 4)"
      ]
     },
     "execution_count": 86,
     "metadata": {},
     "output_type": "execute_result"
    }
   ],
   "source": [
    "# pick a cutoff score\n",
    "cutoff = 0.4\n",
    "pfos = pfos[(pfos['Score']>cutoff)] \n",
    "pfos = pfos.merge(right = vc, left_on='FieldOfStudyId', right_index=True, how='left')\n",
    "# pfos = pfos[pfos['count_in_orig_ls']>0]\n",
    "# pfos = pfos[pfos['FieldOfStudyId'].isin(set(gtn))]\n",
    "pfos.shape"
   ]
  },
  {
   "cell_type": "code",
   "execution_count": 87,
   "metadata": {},
   "outputs": [
    {
     "data": {
      "text/html": [
       "<div>\n",
       "<style scoped>\n",
       "    .dataframe tbody tr th:only-of-type {\n",
       "        vertical-align: middle;\n",
       "    }\n",
       "\n",
       "    .dataframe tbody tr th {\n",
       "        vertical-align: top;\n",
       "    }\n",
       "\n",
       "    .dataframe thead th {\n",
       "        text-align: right;\n",
       "    }\n",
       "</style>\n",
       "<table border=\"1\" class=\"dataframe\">\n",
       "  <thead>\n",
       "    <tr style=\"text-align: right;\">\n",
       "      <th></th>\n",
       "      <th>Score</th>\n",
       "    </tr>\n",
       "    <tr>\n",
       "      <th>FieldOfStudyId</th>\n",
       "      <th></th>\n",
       "    </tr>\n",
       "  </thead>\n",
       "  <tbody>\n",
       "    <tr>\n",
       "      <th>447327</th>\n",
       "      <td>0.470971</td>\n",
       "    </tr>\n",
       "    <tr>\n",
       "      <th>8891405</th>\n",
       "      <td>0.442876</td>\n",
       "    </tr>\n",
       "    <tr>\n",
       "      <th>12174686</th>\n",
       "      <td>0.457487</td>\n",
       "    </tr>\n",
       "    <tr>\n",
       "      <th>17022365</th>\n",
       "      <td>0.440203</td>\n",
       "    </tr>\n",
       "    <tr>\n",
       "      <th>22070199</th>\n",
       "      <td>0.541376</td>\n",
       "    </tr>\n",
       "  </tbody>\n",
       "</table>\n",
       "</div>"
      ],
      "text/plain": [
       "                   Score\n",
       "FieldOfStudyId          \n",
       "447327          0.470971\n",
       "8891405         0.442876\n",
       "12174686        0.457487\n",
       "17022365        0.440203\n",
       "22070199        0.541376"
      ]
     },
     "execution_count": 87,
     "metadata": {},
     "output_type": "execute_result"
    }
   ],
   "source": [
    "best_scores = pfos.groupby('FieldOfStudyId').max()\n",
    "best_scores = best_scores[['Score']]\n",
    "best_scores.head()"
   ]
  },
  {
   "cell_type": "code",
   "execution_count": 88,
   "metadata": {},
   "outputs": [
    {
     "data": {
      "text/plain": [
       "96"
      ]
     },
     "execution_count": 88,
     "metadata": {},
     "output_type": "execute_result"
    }
   ],
   "source": [
    "fields = list(set(pfos['FieldOfStudyId'].tolist()))\n",
    "len(fields)"
   ]
  },
  {
   "cell_type": "markdown",
   "metadata": {},
   "source": [
    "Now retrieve related data on the fields of study. Up until now, we've only had Ids. This will get us the names of the fieldsofstudy so that we can see how relevant they are.\n",
    "\n",
    "Fields of study have a 'level' associated with them. A level of '0' would be a broad topic, like 'physics' or 'medicine'. A level of '5' might be a very narrow topic like \"human mortality from h5n1\". So we set our cutoff to avoid taking too broad a swathe of topics. "
   ]
  },
  {
   "cell_type": "code",
   "execution_count": 89,
   "metadata": {},
   "outputs": [
    {
     "name": "stdout",
     "output_type": "stream",
     "text": [
      "Wall time: 2.16 s\n"
     ]
    },
    {
     "data": {
      "text/plain": [
       "(85, 10)"
      ]
     },
     "execution_count": 89,
     "metadata": {},
     "output_type": "execute_result"
    }
   ],
   "source": [
    "%%time\n",
    "level_cutoff = 1 \n",
    "s = \"( \"+ \", \".join([\"'\"+str(x)+\"'\" for x in fields]) + \")\"\n",
    "sql = \"\"\"\n",
    "        SELECT * FROM [mag].[FieldOfStudy] WHERE FieldOfStudyId IN {} AND Level >{}\n",
    "    \"\"\".format(s,level_cutoff)\n",
    "fos = retrieve_sql_data(sql)\n",
    "fos = fos.merge(best_scores, left_on='FieldOfStudyId', right_index=True, how='left')\n",
    "fos = fos.rename(columns = {'Score':'Best Score'})\n",
    "fos.shape"
   ]
  },
  {
   "cell_type": "code",
   "execution_count": 90,
   "metadata": {},
   "outputs": [],
   "source": [
    "fos = fos.merge(right = vc, left_on='FieldOfStudyId', right_index=True, how='left')"
   ]
  },
  {
   "cell_type": "code",
   "execution_count": 124,
   "metadata": {},
   "outputs": [
    {
     "data": {
      "text/html": [
       "<div>\n",
       "<style scoped>\n",
       "    .dataframe tbody tr th:only-of-type {\n",
       "        vertical-align: middle;\n",
       "    }\n",
       "\n",
       "    .dataframe tbody tr th {\n",
       "        vertical-align: top;\n",
       "    }\n",
       "\n",
       "    .dataframe thead th {\n",
       "        text-align: right;\n",
       "    }\n",
       "</style>\n",
       "<table border=\"1\" class=\"dataframe\">\n",
       "  <thead>\n",
       "    <tr style=\"text-align: right;\">\n",
       "      <th></th>\n",
       "      <th>FieldOfStudyId</th>\n",
       "      <th>Rank</th>\n",
       "      <th>NormalizedName</th>\n",
       "      <th>DisplayName</th>\n",
       "      <th>MainType</th>\n",
       "      <th>Level</th>\n",
       "      <th>PaperCount</th>\n",
       "      <th>CitationCount</th>\n",
       "      <th>CreatedDate</th>\n",
       "      <th>Best Score</th>\n",
       "      <th>count_in_orig_ls</th>\n",
       "    </tr>\n",
       "  </thead>\n",
       "  <tbody>\n",
       "    <tr>\n",
       "      <th>83</th>\n",
       "      <td>2778137277</td>\n",
       "      <td>17006</td>\n",
       "      <td>betacoronavirus</td>\n",
       "      <td>Betacoronavirus</td>\n",
       "      <td>biology.organism_classification</td>\n",
       "      <td>5</td>\n",
       "      <td>180</td>\n",
       "      <td>21345</td>\n",
       "      <td>2018-01-05</td>\n",
       "      <td>0.646165</td>\n",
       "      <td>1</td>\n",
       "    </tr>\n",
       "    <tr>\n",
       "      <th>55</th>\n",
       "      <td>2910344980</td>\n",
       "      <td>13069</td>\n",
       "      <td>ebola hemorrhagic fever</td>\n",
       "      <td>Ebola Hemorrhagic Fever</td>\n",
       "      <td></td>\n",
       "      <td>5</td>\n",
       "      <td>627</td>\n",
       "      <td>23002</td>\n",
       "      <td>2019-01-25</td>\n",
       "      <td>0.595625</td>\n",
       "      <td>1</td>\n",
       "    </tr>\n",
       "    <tr>\n",
       "      <th>52</th>\n",
       "      <td>2908625121</td>\n",
       "      <td>14053</td>\n",
       "      <td>coronaviridae infections</td>\n",
       "      <td>Coronaviridae Infections</td>\n",
       "      <td></td>\n",
       "      <td>5</td>\n",
       "      <td>42</td>\n",
       "      <td>871</td>\n",
       "      <td>2019-01-25</td>\n",
       "      <td>0.589344</td>\n",
       "      <td>1</td>\n",
       "    </tr>\n",
       "  </tbody>\n",
       "</table>\n",
       "</div>"
      ],
      "text/plain": [
       "    FieldOfStudyId   Rank            NormalizedName               DisplayName  \\\n",
       "83      2778137277  17006           betacoronavirus           Betacoronavirus   \n",
       "55      2910344980  13069   ebola hemorrhagic fever   Ebola Hemorrhagic Fever   \n",
       "52      2908625121  14053  coronaviridae infections  Coronaviridae Infections   \n",
       "\n",
       "                           MainType  Level  PaperCount  CitationCount  \\\n",
       "83  biology.organism_classification      5         180          21345   \n",
       "55                                       5         627          23002   \n",
       "52                                       5          42            871   \n",
       "\n",
       "   CreatedDate  Best Score  count_in_orig_ls  \n",
       "83  2018-01-05    0.646165                 1  \n",
       "55  2019-01-25    0.595625                 1  \n",
       "52  2019-01-25    0.589344                 1  "
      ]
     },
     "execution_count": 124,
     "metadata": {},
     "output_type": "execute_result"
    }
   ],
   "source": [
    "fos = fos.sort_values(['Level','Best Score'], ascending = False)\n",
    "fos.head(3)"
   ]
  },
  {
   "cell_type": "code",
   "execution_count": 92,
   "metadata": {},
   "outputs": [],
   "source": [
    "# optionally write out so that everyone can see what list of topics you're using\n",
    "# fos.to_excel('fos.xlsx', index=False)"
   ]
  },
  {
   "cell_type": "markdown",
   "metadata": {},
   "source": [
    "Do some further filtering here."
   ]
  },
  {
   "cell_type": "code",
   "execution_count": 93,
   "metadata": {},
   "outputs": [
    {
     "data": {
      "text/plain": [
       "9"
      ]
     },
     "execution_count": 93,
     "metadata": {},
     "output_type": "execute_result"
    }
   ],
   "source": [
    "fieldset = set(pfos[pfos['Score'] > 0.6]['FieldOfStudyId'].tolist())\n",
    "len(fieldset)"
   ]
  },
  {
   "cell_type": "code",
   "execution_count": 94,
   "metadata": {},
   "outputs": [],
   "source": [
    "fos_subset = fos[(fos['Level']>=3) & (fos['FieldOfStudyId'].isin(fieldset))]"
   ]
  },
  {
   "cell_type": "code",
   "execution_count": 95,
   "metadata": {},
   "outputs": [
    {
     "data": {
      "text/html": [
       "<div>\n",
       "<style scoped>\n",
       "    .dataframe tbody tr th:only-of-type {\n",
       "        vertical-align: middle;\n",
       "    }\n",
       "\n",
       "    .dataframe tbody tr th {\n",
       "        vertical-align: top;\n",
       "    }\n",
       "\n",
       "    .dataframe thead th {\n",
       "        text-align: right;\n",
       "    }\n",
       "</style>\n",
       "<table border=\"1\" class=\"dataframe\">\n",
       "  <thead>\n",
       "    <tr style=\"text-align: right;\">\n",
       "      <th></th>\n",
       "      <th>FieldOfStudyId</th>\n",
       "      <th>Rank</th>\n",
       "      <th>NormalizedName</th>\n",
       "      <th>DisplayName</th>\n",
       "      <th>MainType</th>\n",
       "      <th>Level</th>\n",
       "      <th>PaperCount</th>\n",
       "      <th>CitationCount</th>\n",
       "      <th>CreatedDate</th>\n",
       "      <th>Best Score</th>\n",
       "      <th>count_in_orig_ls</th>\n",
       "    </tr>\n",
       "  </thead>\n",
       "  <tbody>\n",
       "    <tr>\n",
       "      <th>83</th>\n",
       "      <td>2778137277</td>\n",
       "      <td>17006</td>\n",
       "      <td>betacoronavirus</td>\n",
       "      <td>Betacoronavirus</td>\n",
       "      <td>biology.organism_classification</td>\n",
       "      <td>5</td>\n",
       "      <td>180</td>\n",
       "      <td>21345</td>\n",
       "      <td>2018-01-05</td>\n",
       "      <td>0.646165</td>\n",
       "      <td>1</td>\n",
       "    </tr>\n",
       "    <tr>\n",
       "      <th>25</th>\n",
       "      <td>192805744</td>\n",
       "      <td>25000</td>\n",
       "      <td>human mortality from h5n1</td>\n",
       "      <td>Human mortality from H5N1</td>\n",
       "      <td></td>\n",
       "      <td>4</td>\n",
       "      <td>4355</td>\n",
       "      <td>86741</td>\n",
       "      <td>2016-06-24</td>\n",
       "      <td>0.721171</td>\n",
       "      <td>1</td>\n",
       "    </tr>\n",
       "    <tr>\n",
       "      <th>58</th>\n",
       "      <td>2777691041</td>\n",
       "      <td>13818</td>\n",
       "      <td>middle east respiratory syndrome coronavirus</td>\n",
       "      <td>Middle East respiratory syndrome coronavirus</td>\n",
       "      <td>medicine.disease_cause</td>\n",
       "      <td>4</td>\n",
       "      <td>1408</td>\n",
       "      <td>29372</td>\n",
       "      <td>2018-01-05</td>\n",
       "      <td>0.692007</td>\n",
       "      <td>16</td>\n",
       "    </tr>\n",
       "    <tr>\n",
       "      <th>38</th>\n",
       "      <td>2777485425</td>\n",
       "      <td>15423</td>\n",
       "      <td>human coronavirus nl63</td>\n",
       "      <td>Human coronavirus NL63</td>\n",
       "      <td>biology.organism_classification</td>\n",
       "      <td>4</td>\n",
       "      <td>190</td>\n",
       "      <td>22058</td>\n",
       "      <td>2018-01-05</td>\n",
       "      <td>0.626395</td>\n",
       "      <td>1</td>\n",
       "    </tr>\n",
       "    <tr>\n",
       "      <th>35</th>\n",
       "      <td>2776525042</td>\n",
       "      <td>14159</td>\n",
       "      <td>middle east respiratory syndrome</td>\n",
       "      <td>Middle East respiratory syndrome</td>\n",
       "      <td>medicine.disease</td>\n",
       "      <td>4</td>\n",
       "      <td>1005</td>\n",
       "      <td>15537</td>\n",
       "      <td>2018-01-05</td>\n",
       "      <td>0.626105</td>\n",
       "      <td>2</td>\n",
       "    </tr>\n",
       "    <tr>\n",
       "      <th>48</th>\n",
       "      <td>2780987755</td>\n",
       "      <td>13884</td>\n",
       "      <td>sars coronavirus</td>\n",
       "      <td>SARS coronavirus</td>\n",
       "      <td>biology.organism_classification</td>\n",
       "      <td>4</td>\n",
       "      <td>1747</td>\n",
       "      <td>52299</td>\n",
       "      <td>2018-01-05</td>\n",
       "      <td>0.604757</td>\n",
       "      <td>2</td>\n",
       "    </tr>\n",
       "    <tr>\n",
       "      <th>39</th>\n",
       "      <td>2777648638</td>\n",
       "      <td>11040</td>\n",
       "      <td>coronavirus</td>\n",
       "      <td>Coronavirus</td>\n",
       "      <td>medicine.disease_cause</td>\n",
       "      <td>3</td>\n",
       "      <td>8080</td>\n",
       "      <td>215252</td>\n",
       "      <td>2018-01-05</td>\n",
       "      <td>0.675827</td>\n",
       "      <td>17</td>\n",
       "    </tr>\n",
       "    <tr>\n",
       "      <th>10</th>\n",
       "      <td>89623803</td>\n",
       "      <td>10852</td>\n",
       "      <td>pandemic</td>\n",
       "      <td>Pandemic</td>\n",
       "      <td></td>\n",
       "      <td>3</td>\n",
       "      <td>28199</td>\n",
       "      <td>434929</td>\n",
       "      <td>2016-06-24</td>\n",
       "      <td>0.635572</td>\n",
       "      <td>29</td>\n",
       "    </tr>\n",
       "  </tbody>\n",
       "</table>\n",
       "</div>"
      ],
      "text/plain": [
       "    FieldOfStudyId   Rank                                NormalizedName  \\\n",
       "83      2778137277  17006                               betacoronavirus   \n",
       "25       192805744  25000                     human mortality from h5n1   \n",
       "58      2777691041  13818  middle east respiratory syndrome coronavirus   \n",
       "38      2777485425  15423                        human coronavirus nl63   \n",
       "35      2776525042  14159              middle east respiratory syndrome   \n",
       "48      2780987755  13884                              sars coronavirus   \n",
       "39      2777648638  11040                                   coronavirus   \n",
       "10        89623803  10852                                      pandemic   \n",
       "\n",
       "                                     DisplayName  \\\n",
       "83                               Betacoronavirus   \n",
       "25                     Human mortality from H5N1   \n",
       "58  Middle East respiratory syndrome coronavirus   \n",
       "38                        Human coronavirus NL63   \n",
       "35              Middle East respiratory syndrome   \n",
       "48                              SARS coronavirus   \n",
       "39                                   Coronavirus   \n",
       "10                                      Pandemic   \n",
       "\n",
       "                           MainType  Level  PaperCount  CitationCount  \\\n",
       "83  biology.organism_classification      5         180          21345   \n",
       "25                                       4        4355          86741   \n",
       "58           medicine.disease_cause      4        1408          29372   \n",
       "38  biology.organism_classification      4         190          22058   \n",
       "35                 medicine.disease      4        1005          15537   \n",
       "48  biology.organism_classification      4        1747          52299   \n",
       "39           medicine.disease_cause      3        8080         215252   \n",
       "10                                       3       28199         434929   \n",
       "\n",
       "   CreatedDate  Best Score  count_in_orig_ls  \n",
       "83  2018-01-05    0.646165                 1  \n",
       "25  2016-06-24    0.721171                 1  \n",
       "58  2018-01-05    0.692007                16  \n",
       "38  2018-01-05    0.626395                 1  \n",
       "35  2018-01-05    0.626105                 2  \n",
       "48  2018-01-05    0.604757                 2  \n",
       "39  2018-01-05    0.675827                17  \n",
       "10  2016-06-24    0.635572                29  "
      ]
     },
     "execution_count": 95,
     "metadata": {},
     "output_type": "execute_result"
    }
   ],
   "source": [
    "fos_subset.head(3)"
   ]
  },
  {
   "cell_type": "markdown",
   "metadata": {},
   "source": [
    "MAG's Fieldsofstudy all have 'children'. That is narrower topics which fit within another topic.  So virology might be a child of medicine and coronavirus might be a child of virology.\n",
    "\n",
    "We probably want all or most of the children of the fieldsofstudy that we have chosen. "
   ]
  },
  {
   "cell_type": "code",
   "execution_count": 96,
   "metadata": {},
   "outputs": [
    {
     "name": "stdout",
     "output_type": "stream",
     "text": [
      "Wall time: 1.99 s\n"
     ]
    },
    {
     "data": {
      "text/plain": [
       "(84, 2)"
      ]
     },
     "execution_count": 96,
     "metadata": {},
     "output_type": "execute_result"
    }
   ],
   "source": [
    "%%time\n",
    "# add fos children\n",
    "# now get all SAGE articles with these FOS from the last 3 years\n",
    "fos_ls = fos_subset['FieldOfStudyId'].tolist()\n",
    "\n",
    "s = \"( \"+ \", \".join([\"'\"+str(x)+\"'\" for x in fos_ls]) + \")\"\n",
    "sql = \"\"\"\n",
    "        SELECT * FROM [mag].[FieldOfStudyChildren] WHERE FieldOfStudyId IN {}\n",
    "    \"\"\".format(s)\n",
    "children = retrieve_sql_data(sql)\n",
    "children.shape"
   ]
  },
  {
   "cell_type": "code",
   "execution_count": 97,
   "metadata": {},
   "outputs": [
    {
     "data": {
      "text/plain": [
       "178"
      ]
     },
     "execution_count": 97,
     "metadata": {},
     "output_type": "execute_result"
    }
   ],
   "source": [
    "## Add children...\n",
    "cfields = fields + list(set(children['ChildFieldOfStudyId'].tolist()))\n",
    "len(cfields)"
   ]
  },
  {
   "cell_type": "code",
   "execution_count": 98,
   "metadata": {},
   "outputs": [
    {
     "name": "stdout",
     "output_type": "stream",
     "text": [
      "Wall time: 2.92 s\n"
     ]
    },
    {
     "data": {
      "text/plain": [
       "(170, 10)"
      ]
     },
     "execution_count": 98,
     "metadata": {},
     "output_type": "execute_result"
    }
   ],
   "source": [
    "%%time\n",
    "\n",
    "s = \"( \"+ \", \".join([\"'\"+str(x)+\"'\" for x in cfields]) + \")\"\n",
    "sql = \"\"\"\n",
    "        SELECT * FROM [mag].[FieldOfStudy] WHERE FieldOfStudyId IN {}\n",
    "    \"\"\".format(s)\n",
    "fosc = retrieve_sql_data(sql)\n",
    "fosc = fosc.merge(best_scores, left_on='FieldOfStudyId', right_index=True, how='left')\n",
    "fosc = fosc.rename(columns = {'Score':'Best Score'})\n",
    "fosc.shape"
   ]
  },
  {
   "cell_type": "code",
   "execution_count": 99,
   "metadata": {},
   "outputs": [],
   "source": [
    "# fos = fos.merge(right = vc, left_on='FieldOfStudyId', right_index=True, how='left')"
   ]
  },
  {
   "cell_type": "markdown",
   "metadata": {},
   "source": [
    "Now let's inspect the list."
   ]
  },
  {
   "cell_type": "code",
   "execution_count": 100,
   "metadata": {},
   "outputs": [
    {
     "data": {
      "text/html": [
       "<div>\n",
       "<style scoped>\n",
       "    .dataframe tbody tr th:only-of-type {\n",
       "        vertical-align: middle;\n",
       "    }\n",
       "\n",
       "    .dataframe tbody tr th {\n",
       "        vertical-align: top;\n",
       "    }\n",
       "\n",
       "    .dataframe thead th {\n",
       "        text-align: right;\n",
       "    }\n",
       "</style>\n",
       "<table border=\"1\" class=\"dataframe\">\n",
       "  <thead>\n",
       "    <tr style=\"text-align: right;\">\n",
       "      <th></th>\n",
       "      <th>FieldOfStudyId</th>\n",
       "      <th>Rank</th>\n",
       "      <th>NormalizedName</th>\n",
       "      <th>DisplayName</th>\n",
       "      <th>MainType</th>\n",
       "      <th>Level</th>\n",
       "      <th>PaperCount</th>\n",
       "      <th>CitationCount</th>\n",
       "      <th>CreatedDate</th>\n",
       "      <th>Best Score</th>\n",
       "    </tr>\n",
       "  </thead>\n",
       "  <tbody>\n",
       "    <tr>\n",
       "      <th>132</th>\n",
       "      <td>2909397111</td>\n",
       "      <td>25000</td>\n",
       "      <td>monovalent influenza vaccines</td>\n",
       "      <td>Monovalent Influenza Vaccines</td>\n",
       "      <td></td>\n",
       "      <td>5</td>\n",
       "      <td>11</td>\n",
       "      <td>237</td>\n",
       "      <td>2019-01-25</td>\n",
       "      <td>NaN</td>\n",
       "    </tr>\n",
       "    <tr>\n",
       "      <th>155</th>\n",
       "      <td>2910720372</td>\n",
       "      <td>19613</td>\n",
       "      <td>mers virus</td>\n",
       "      <td>MERS virus</td>\n",
       "      <td></td>\n",
       "      <td>5</td>\n",
       "      <td>17</td>\n",
       "      <td>57</td>\n",
       "      <td>2019-01-25</td>\n",
       "      <td>NaN</td>\n",
       "    </tr>\n",
       "    <tr>\n",
       "      <th>130</th>\n",
       "      <td>2909228517</td>\n",
       "      <td>25000</td>\n",
       "      <td>sars coronavirus rna</td>\n",
       "      <td>SARS coronavirus RNA</td>\n",
       "      <td></td>\n",
       "      <td>5</td>\n",
       "      <td>14</td>\n",
       "      <td>88</td>\n",
       "      <td>2019-01-25</td>\n",
       "      <td>NaN</td>\n",
       "    </tr>\n",
       "    <tr>\n",
       "      <th>122</th>\n",
       "      <td>2908854353</td>\n",
       "      <td>16574</td>\n",
       "      <td>mers coronavirus</td>\n",
       "      <td>MERS coronavirus</td>\n",
       "      <td></td>\n",
       "      <td>5</td>\n",
       "      <td>159</td>\n",
       "      <td>3058</td>\n",
       "      <td>2019-01-25</td>\n",
       "      <td>NaN</td>\n",
       "    </tr>\n",
       "    <tr>\n",
       "      <th>117</th>\n",
       "      <td>2908625121</td>\n",
       "      <td>14053</td>\n",
       "      <td>coronaviridae infections</td>\n",
       "      <td>Coronaviridae Infections</td>\n",
       "      <td></td>\n",
       "      <td>5</td>\n",
       "      <td>42</td>\n",
       "      <td>871</td>\n",
       "      <td>2019-01-25</td>\n",
       "      <td>0.589344</td>\n",
       "    </tr>\n",
       "    <tr>\n",
       "      <th>34</th>\n",
       "      <td>142054583</td>\n",
       "      <td>25000</td>\n",
       "      <td>transmission and infection of h5n1</td>\n",
       "      <td>Transmission and infection of H5N1</td>\n",
       "      <td></td>\n",
       "      <td>5</td>\n",
       "      <td>742</td>\n",
       "      <td>29135</td>\n",
       "      <td>2016-06-24</td>\n",
       "      <td>NaN</td>\n",
       "    </tr>\n",
       "    <tr>\n",
       "      <th>115</th>\n",
       "      <td>2781442963</td>\n",
       "      <td>12367</td>\n",
       "      <td>zanamivir</td>\n",
       "      <td>Zanamivir</td>\n",
       "      <td>medicine.drug</td>\n",
       "      <td>5</td>\n",
       "      <td>1762</td>\n",
       "      <td>51749</td>\n",
       "      <td>2018-01-05</td>\n",
       "      <td>0.582309</td>\n",
       "    </tr>\n",
       "    <tr>\n",
       "      <th>143</th>\n",
       "      <td>2910344980</td>\n",
       "      <td>13069</td>\n",
       "      <td>ebola hemorrhagic fever</td>\n",
       "      <td>Ebola Hemorrhagic Fever</td>\n",
       "      <td></td>\n",
       "      <td>5</td>\n",
       "      <td>627</td>\n",
       "      <td>23002</td>\n",
       "      <td>2019-01-25</td>\n",
       "      <td>0.595625</td>\n",
       "    </tr>\n",
       "    <tr>\n",
       "      <th>60</th>\n",
       "      <td>2775980723</td>\n",
       "      <td>14699</td>\n",
       "      <td>international health regulations</td>\n",
       "      <td>International Health Regulations</td>\n",
       "      <td></td>\n",
       "      <td>5</td>\n",
       "      <td>810</td>\n",
       "      <td>6753</td>\n",
       "      <td>2018-01-05</td>\n",
       "      <td>0.541849</td>\n",
       "    </tr>\n",
       "    <tr>\n",
       "      <th>147</th>\n",
       "      <td>2911128928</td>\n",
       "      <td>25000</td>\n",
       "      <td>sars coronavirus main protease</td>\n",
       "      <td>SARS coronavirus main protease</td>\n",
       "      <td></td>\n",
       "      <td>5</td>\n",
       "      <td>21</td>\n",
       "      <td>95</td>\n",
       "      <td>2019-01-25</td>\n",
       "      <td>NaN</td>\n",
       "    </tr>\n",
       "  </tbody>\n",
       "</table>\n",
       "</div>"
      ],
      "text/plain": [
       "     FieldOfStudyId   Rank                      NormalizedName  \\\n",
       "132      2909397111  25000       monovalent influenza vaccines   \n",
       "155      2910720372  19613                          mers virus   \n",
       "130      2909228517  25000                sars coronavirus rna   \n",
       "122      2908854353  16574                    mers coronavirus   \n",
       "117      2908625121  14053            coronaviridae infections   \n",
       "34        142054583  25000  transmission and infection of h5n1   \n",
       "115      2781442963  12367                           zanamivir   \n",
       "143      2910344980  13069             ebola hemorrhagic fever   \n",
       "60       2775980723  14699    international health regulations   \n",
       "147      2911128928  25000      sars coronavirus main protease   \n",
       "\n",
       "                            DisplayName       MainType  Level  PaperCount  \\\n",
       "132       Monovalent Influenza Vaccines                     5          11   \n",
       "155                          MERS virus                     5          17   \n",
       "130                SARS coronavirus RNA                     5          14   \n",
       "122                    MERS coronavirus                     5         159   \n",
       "117            Coronaviridae Infections                     5          42   \n",
       "34   Transmission and infection of H5N1                     5         742   \n",
       "115                           Zanamivir  medicine.drug      5        1762   \n",
       "143             Ebola Hemorrhagic Fever                     5         627   \n",
       "60     International Health Regulations                     5         810   \n",
       "147      SARS coronavirus main protease                     5          21   \n",
       "\n",
       "     CitationCount CreatedDate  Best Score  \n",
       "132            237  2019-01-25         NaN  \n",
       "155             57  2019-01-25         NaN  \n",
       "130             88  2019-01-25         NaN  \n",
       "122           3058  2019-01-25         NaN  \n",
       "117            871  2019-01-25    0.589344  \n",
       "34           29135  2016-06-24         NaN  \n",
       "115          51749  2018-01-05    0.582309  \n",
       "143          23002  2019-01-25    0.595625  \n",
       "60            6753  2018-01-05    0.541849  \n",
       "147             95  2019-01-25         NaN  "
      ]
     },
     "execution_count": 100,
     "metadata": {},
     "output_type": "execute_result"
    }
   ],
   "source": [
    "fosc = fosc.sort_values(['Level'], ascending = False)\n",
    "fosc.head(10)"
   ]
  },
  {
   "cell_type": "code",
   "execution_count": 101,
   "metadata": {},
   "outputs": [
    {
     "data": {
      "text/html": [
       "<div>\n",
       "<style scoped>\n",
       "    .dataframe tbody tr th:only-of-type {\n",
       "        vertical-align: middle;\n",
       "    }\n",
       "\n",
       "    .dataframe tbody tr th {\n",
       "        vertical-align: top;\n",
       "    }\n",
       "\n",
       "    .dataframe thead th {\n",
       "        text-align: right;\n",
       "    }\n",
       "</style>\n",
       "<table border=\"1\" class=\"dataframe\">\n",
       "  <thead>\n",
       "    <tr style=\"text-align: right;\">\n",
       "      <th></th>\n",
       "      <th>FieldOfStudyId</th>\n",
       "      <th>Rank</th>\n",
       "      <th>NormalizedName</th>\n",
       "      <th>DisplayName</th>\n",
       "      <th>MainType</th>\n",
       "      <th>Level</th>\n",
       "      <th>PaperCount</th>\n",
       "      <th>CitationCount</th>\n",
       "      <th>CreatedDate</th>\n",
       "      <th>Best Score</th>\n",
       "    </tr>\n",
       "  </thead>\n",
       "  <tbody>\n",
       "    <tr>\n",
       "      <th>37</th>\n",
       "      <td>159047783</td>\n",
       "      <td>8763</td>\n",
       "      <td>virology</td>\n",
       "      <td>Virology</td>\n",
       "      <td></td>\n",
       "      <td>1</td>\n",
       "      <td>1939379</td>\n",
       "      <td>28941528</td>\n",
       "      <td>2016-06-24</td>\n",
       "      <td>0.457334</td>\n",
       "    </tr>\n",
       "    <tr>\n",
       "      <th>36</th>\n",
       "      <td>149923435</td>\n",
       "      <td>8511</td>\n",
       "      <td>demography</td>\n",
       "      <td>Demography</td>\n",
       "      <td></td>\n",
       "      <td>1</td>\n",
       "      <td>459880</td>\n",
       "      <td>5038224</td>\n",
       "      <td>2016-06-24</td>\n",
       "      <td>0.407006</td>\n",
       "    </tr>\n",
       "    <tr>\n",
       "      <th>12</th>\n",
       "      <td>42972112</td>\n",
       "      <td>8162</td>\n",
       "      <td>veterinary medicine</td>\n",
       "      <td>Veterinary medicine</td>\n",
       "      <td></td>\n",
       "      <td>1</td>\n",
       "      <td>430350</td>\n",
       "      <td>2507330</td>\n",
       "      <td>2016-06-24</td>\n",
       "      <td>0.406581</td>\n",
       "    </tr>\n",
       "    <tr>\n",
       "      <th>10</th>\n",
       "      <td>39549134</td>\n",
       "      <td>10124</td>\n",
       "      <td>public relations</td>\n",
       "      <td>Public relations</td>\n",
       "      <td>business.industry</td>\n",
       "      <td>1</td>\n",
       "      <td>1312836</td>\n",
       "      <td>10467633</td>\n",
       "      <td>2016-06-24</td>\n",
       "      <td>0.441667</td>\n",
       "    </tr>\n",
       "    <tr>\n",
       "      <th>56</th>\n",
       "      <td>545542383</td>\n",
       "      <td>15067</td>\n",
       "      <td>medical emergency</td>\n",
       "      <td>Medical emergency</td>\n",
       "      <td>medicine.disease</td>\n",
       "      <td>1</td>\n",
       "      <td>443879</td>\n",
       "      <td>3326265</td>\n",
       "      <td>2016-06-24</td>\n",
       "      <td>0.408776</td>\n",
       "    </tr>\n",
       "    <tr>\n",
       "      <th>44</th>\n",
       "      <td>187212893</td>\n",
       "      <td>8148</td>\n",
       "      <td>pediatrics</td>\n",
       "      <td>Pediatrics</td>\n",
       "      <td>medicine.medical_specialty</td>\n",
       "      <td>1</td>\n",
       "      <td>1155497</td>\n",
       "      <td>9149968</td>\n",
       "      <td>2016-06-24</td>\n",
       "      <td>0.412734</td>\n",
       "    </tr>\n",
       "    <tr>\n",
       "      <th>50</th>\n",
       "      <td>194828623</td>\n",
       "      <td>9395</td>\n",
       "      <td>emergency medicine</td>\n",
       "      <td>Emergency medicine</td>\n",
       "      <td>medicine.medical_specialty</td>\n",
       "      <td>1</td>\n",
       "      <td>576443</td>\n",
       "      <td>2792882</td>\n",
       "      <td>2016-06-24</td>\n",
       "      <td>0.441294</td>\n",
       "    </tr>\n",
       "    <tr>\n",
       "      <th>51</th>\n",
       "      <td>203014093</td>\n",
       "      <td>7642</td>\n",
       "      <td>immunology</td>\n",
       "      <td>Immunology</td>\n",
       "      <td></td>\n",
       "      <td>1</td>\n",
       "      <td>3188282</td>\n",
       "      <td>69151823</td>\n",
       "      <td>2016-06-24</td>\n",
       "      <td>0.423523</td>\n",
       "    </tr>\n",
       "    <tr>\n",
       "      <th>53</th>\n",
       "      <td>512399662</td>\n",
       "      <td>10752</td>\n",
       "      <td>family medicine</td>\n",
       "      <td>Family medicine</td>\n",
       "      <td>medicine.medical_specialty</td>\n",
       "      <td>1</td>\n",
       "      <td>1491301</td>\n",
       "      <td>8733015</td>\n",
       "      <td>2016-06-24</td>\n",
       "      <td>0.451957</td>\n",
       "    </tr>\n",
       "    <tr>\n",
       "      <th>23</th>\n",
       "      <td>71924100</td>\n",
       "      <td>9382</td>\n",
       "      <td>medicine</td>\n",
       "      <td>Medicine</td>\n",
       "      <td>business.industry</td>\n",
       "      <td>0</td>\n",
       "      <td>27719103</td>\n",
       "      <td>268521371</td>\n",
       "      <td>2016-06-24</td>\n",
       "      <td>0.426224</td>\n",
       "    </tr>\n",
       "  </tbody>\n",
       "</table>\n",
       "</div>"
      ],
      "text/plain": [
       "    FieldOfStudyId   Rank       NormalizedName          DisplayName  \\\n",
       "37       159047783   8763             virology             Virology   \n",
       "36       149923435   8511           demography           Demography   \n",
       "12        42972112   8162  veterinary medicine  Veterinary medicine   \n",
       "10        39549134  10124     public relations     Public relations   \n",
       "56       545542383  15067    medical emergency    Medical emergency   \n",
       "44       187212893   8148           pediatrics           Pediatrics   \n",
       "50       194828623   9395   emergency medicine   Emergency medicine   \n",
       "51       203014093   7642           immunology           Immunology   \n",
       "53       512399662  10752      family medicine      Family medicine   \n",
       "23        71924100   9382             medicine             Medicine   \n",
       "\n",
       "                      MainType  Level  PaperCount  CitationCount CreatedDate  \\\n",
       "37                                  1     1939379       28941528  2016-06-24   \n",
       "36                                  1      459880        5038224  2016-06-24   \n",
       "12                                  1      430350        2507330  2016-06-24   \n",
       "10           business.industry      1     1312836       10467633  2016-06-24   \n",
       "56            medicine.disease      1      443879        3326265  2016-06-24   \n",
       "44  medicine.medical_specialty      1     1155497        9149968  2016-06-24   \n",
       "50  medicine.medical_specialty      1      576443        2792882  2016-06-24   \n",
       "51                                  1     3188282       69151823  2016-06-24   \n",
       "53  medicine.medical_specialty      1     1491301        8733015  2016-06-24   \n",
       "23           business.industry      0    27719103      268521371  2016-06-24   \n",
       "\n",
       "    Best Score  \n",
       "37    0.457334  \n",
       "36    0.407006  \n",
       "12    0.406581  \n",
       "10    0.441667  \n",
       "56    0.408776  \n",
       "44    0.412734  \n",
       "50    0.441294  \n",
       "51    0.423523  \n",
       "53    0.451957  \n",
       "23    0.426224  "
      ]
     },
     "execution_count": 101,
     "metadata": {},
     "output_type": "execute_result"
    }
   ],
   "source": [
    "fosc.tail(10)"
   ]
  },
  {
   "cell_type": "code",
   "execution_count": 102,
   "metadata": {},
   "outputs": [],
   "source": [
    "# write out thelist of fields and children that we are using\n",
    "# fosc.to_excel('fieldsofstudy_coronavirus.xlsx', index = False)"
   ]
  },
  {
   "cell_type": "code",
   "execution_count": null,
   "metadata": {},
   "outputs": [],
   "source": []
  },
  {
   "cell_type": "markdown",
   "metadata": {},
   "source": [
    "# Get papers"
   ]
  },
  {
   "cell_type": "code",
   "execution_count": 103,
   "metadata": {},
   "outputs": [
    {
     "name": "stdout",
     "output_type": "stream",
     "text": [
      "Wall time: 15.6 s\n"
     ]
    },
    {
     "data": {
      "text/plain": [
       "(112186, 3)"
      ]
     },
     "execution_count": 103,
     "metadata": {},
     "output_type": "execute_result"
    }
   ],
   "source": [
    "%%time\n",
    "# now get all SAGE articles with these FOS from the last X years\n",
    "fos_ls = fosc[fosc['Level']>2]['FieldOfStudyId'].tolist()\n",
    "\n",
    "s = \"( \"+ \", \".join([\"'\"+str(x)+\"'\" for x in fos_ls]) + \")\"\n",
    "sql = \"\"\"\n",
    "        SELECT * FROM [mag].[PaperFieldsOfStudy] WHERE FieldOfStudyId IN {} AND Score > 0.6\n",
    "    \"\"\".format(s)\n",
    "rel_pfos = retrieve_sql_data(sql)\n",
    "rel_pfos.shape\n",
    "\n"
   ]
  },
  {
   "cell_type": "code",
   "execution_count": 104,
   "metadata": {},
   "outputs": [],
   "source": [
    "# rel_pfos = rel_pfos[rel_pfos['Score']>0.5]\n",
    "# rel_pfos.shape"
   ]
  },
  {
   "cell_type": "code",
   "execution_count": 105,
   "metadata": {},
   "outputs": [
    {
     "data": {
      "text/plain": [
       "[2010, 2011, 2012, 2013, 2014, 2015, 2016, 2017, 2018, 2019, 2020]"
      ]
     },
     "execution_count": 105,
     "metadata": {},
     "output_type": "execute_result"
    }
   ],
   "source": [
    "years = [x for x in range(2010,2021)]\n",
    "years"
   ]
  },
  {
   "cell_type": "code",
   "execution_count": 106,
   "metadata": {
    "scrolled": true
   },
   "outputs": [
    {
     "name": "stdout",
     "output_type": "stream",
     "text": [
      "Wall time: 7min 11s\n"
     ]
    },
    {
     "data": {
      "text/plain": [
       "(26226, 9)"
      ]
     },
     "execution_count": 106,
     "metadata": {},
     "output_type": "execute_result"
    }
   ],
   "source": [
    "%%time\n",
    "# now get the Papers data for these\n",
    "rel_pids = rel_pfos['PaperId']\n",
    "s = \"( \"+ \", \".join([\"'\"+str(x)+\"'\" for x in rel_pids]) + \")\"\n",
    "s2 = \"( \"+ \", \".join([str(x) for x in years]) + \")\"\n",
    "sql = \"\"\"\n",
    "        SELECT PaperId, OriginalTitle, Doi, Year, Date, Publisher, JournalId, CitationCount, EstimatedCitation \n",
    "        FROM [mag].[Papers] \n",
    "        WHERE PaperId IN {} \n",
    "        AND Year IN {} \n",
    "        AND DocType = 'Journal'\n",
    "    \"\"\".format(s, s2)\n",
    "rel_papers = retrieve_sql_data(sql)\n",
    "rel_papers.shape"
   ]
  },
  {
   "cell_type": "code",
   "execution_count": null,
   "metadata": {},
   "outputs": [],
   "source": [
    "rel_papers['Link'] = rel_papers['Doi'].map(lambda x: 'http:/doi/org/'+str(x) if (x!=None) else x)"
   ]
  },
  {
   "cell_type": "code",
   "execution_count": 127,
   "metadata": {},
   "outputs": [],
   "source": [
    "rel_papers.to_csv('Related_papers.csv', encoding='utf-8-sig', index=False)"
   ]
  },
  {
   "cell_type": "markdown",
   "metadata": {},
   "source": [
    "There we are! Now we have a big list of Coronavirus-related papers from the Microsoft Academic Graph. We can then filter this list for relevant articles published by SAGE and make them free-to-read.\n",
    "\n",
    "This was obviously a super-rough process for finding coronavirus-related content. There are certainly a few articles which have nothing to do with coronavirus in the list. One of our goals was to find papers on health-policy and, while we certainly found them, it's clear that a lot of papers we found on health-policy do not have anything to do with the ongoing coronavirus outbreak. There are also surely papers that are relevant to the outbreak that have not been found by this process.\n",
    "\n",
    "That said, this process provided better overall coverage of SAGE content than a simple keyword search and also saved a huge amount of time compared with manual curation of a list of papers.\n",
    "\n",
    "### Next steps\n",
    "If anyone is interested in developing this further, I think that there is an opportunity to create a coronavirus classifier using text data and potentially other MAG data, like reference-data, as well as the fieldsofstudy we used here.\n",
    "\n",
    "That classifier could be very useful for publishers of subscription content who want to drop the paywall on coronavirus research, but it would also be useful to create a feed of related research for anyone who's interested in keeping up with the latest research on the outbreak. "
   ]
  },
  {
   "cell_type": "code",
   "execution_count": null,
   "metadata": {},
   "outputs": [],
   "source": []
  },
  {
   "cell_type": "code",
   "execution_count": null,
   "metadata": {},
   "outputs": [],
   "source": []
  },
  {
   "cell_type": "code",
   "execution_count": null,
   "metadata": {},
   "outputs": [],
   "source": []
  }
 ],
 "metadata": {
  "kernelspec": {
   "display_name": "Python 3",
   "language": "python",
   "name": "python3"
  },
  "language_info": {
   "codemirror_mode": {
    "name": "ipython",
    "version": 3
   },
   "file_extension": ".py",
   "mimetype": "text/x-python",
   "name": "python",
   "nbconvert_exporter": "python",
   "pygments_lexer": "ipython3",
   "version": "3.7.4"
  },
  "toc": {
   "base_numbering": 1,
   "nav_menu": {},
   "number_sections": true,
   "sideBar": true,
   "skip_h1_title": false,
   "title_cell": "Table of Contents",
   "title_sidebar": "Contents",
   "toc_cell": true,
   "toc_position": {},
   "toc_section_display": true,
   "toc_window_display": false
  },
  "varInspector": {
   "cols": {
    "lenName": 16,
    "lenType": 16,
    "lenVar": 40
   },
   "kernels_config": {
    "python": {
     "delete_cmd_postfix": "",
     "delete_cmd_prefix": "del ",
     "library": "var_list.py",
     "varRefreshCmd": "print(var_dic_list())"
    },
    "r": {
     "delete_cmd_postfix": ") ",
     "delete_cmd_prefix": "rm(",
     "library": "var_list.r",
     "varRefreshCmd": "cat(var_dic_list()) "
    }
   },
   "types_to_exclude": [
    "module",
    "function",
    "builtin_function_or_method",
    "instance",
    "_Feature"
   ],
   "window_display": false
  }
 },
 "nbformat": 4,
 "nbformat_minor": 4
}
