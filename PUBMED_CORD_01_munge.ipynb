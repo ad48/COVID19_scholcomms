{
 "cells": [
  {
   "cell_type": "markdown",
   "metadata": {},
   "source": [
    "# Data munging for Pubmed and CORD-19\n",
    "\n",
    "- Our objective here is to join these 2 datasets together so that we can use them to do textual analysis.\n",
    "\n",
    "## Data\n",
    "#### Merging the data\n",
    "- need to get pmids/dois for COVID-19 articles and filter those out\n",
    "  \n",
    "#### Training dataset\n",
    "- add, say, 60% of the text-data for COVID-19. \n",
    "    \n",
    "#### Dev and test sets\n",
    "- for dev and test, take 20% of covid-19 and add a random sample of pubmed approximately the same size.\n",
    "- you might find that the sample of pubmed is not representative of real-world data, so you may have to have a larger sample with imbalanced classes.\n",
    "\n",
    "#### Modelling issues to consider\n",
    "- start with Doc2Vec and SVMs and see what you get. Then try a few other models and iterate. \n",
    "  - this worked ok, but had a lot of errors. \n",
    "  - switched to spaCy categorizer, which seems better.\n",
    "- it might also be nice to try a full-text model - maybe LDA / TFIDF and use it as a baseline?\n",
    "- transfer learning could save a lot of time. Consider SciSpaCy and SciBERT.\n",
    "- With this much data, you could get good results with deep-learning models."
   ]
  },
  {
   "cell_type": "code",
   "execution_count": 1,
   "metadata": {},
   "outputs": [],
   "source": [
    "import pandas as pd\n",
    "import numpy as np"
   ]
  },
  {
   "cell_type": "code",
   "execution_count": 2,
   "metadata": {},
   "outputs": [
    {
     "data": {
      "text/plain": [
       "((34185, 22), (1020660, 9))"
      ]
     },
     "execution_count": 2,
     "metadata": {},
     "output_type": "execute_result"
    }
   ],
   "source": [
    "# read in the data\n",
    "pubmed = pd.read_csv('data/pubmed_sample.csv', dtype=str, index_col = 0)\n",
    "covid = pd.read_csv('data/s2_cr_data.csv', dtype=str)\n",
    "covid.shape, pubmed.shape"
   ]
  },
  {
   "cell_type": "code",
   "execution_count": 3,
   "metadata": {},
   "outputs": [],
   "source": [
    "# rename some columns so that they match for merging\n",
    "pubmed = pubmed.rename(columns = {'title':'venue','articletitle':'title'})"
   ]
  },
  {
   "cell_type": "markdown",
   "metadata": {},
   "source": [
    "## Drop duplicates"
   ]
  },
  {
   "cell_type": "code",
   "execution_count": 4,
   "metadata": {},
   "outputs": [
    {
     "data": {
      "text/plain": [
       "((1020653, 9), (34185, 22))"
      ]
     },
     "execution_count": 4,
     "metadata": {},
     "output_type": "execute_result"
    }
   ],
   "source": [
    "pubmed = pubmed.drop_duplicates(subset = ['pmid','doi','title'], keep = 'first')\n",
    "covid = covid.drop_duplicates(subset = ['doi','title'], keep = 'first')\n",
    "pubmed.shape, covid.shape"
   ]
  },
  {
   "cell_type": "markdown",
   "metadata": {},
   "source": [
    "## Drop matching DOIs\n",
    "Avoid having the same article in both datasets where possible."
   ]
  },
  {
   "cell_type": "code",
   "execution_count": 5,
   "metadata": {},
   "outputs": [
    {
     "data": {
      "text/plain": [
       "(1018760, 9)"
      ]
     },
     "execution_count": 5,
     "metadata": {},
     "output_type": "execute_result"
    }
   ],
   "source": [
    "# make a set of dois in the covid dataset\n",
    "covid_doi_set = set([str(x) for x in covid.doi.unique() if str(x) not in {'nan','None',''}])\n",
    "# if any of those DOIs are in the pubmed data, drop those rows\n",
    "pubmed = pubmed[~pubmed.doi.isin(covid_doi_set)]\n",
    "pubmed.shape"
   ]
  },
  {
   "cell_type": "markdown",
   "metadata": {},
   "source": [
    "## Drop matching titles\n",
    "Avoid having the same article in both datasets where possible."
   ]
  },
  {
   "cell_type": "code",
   "execution_count": 6,
   "metadata": {},
   "outputs": [
    {
     "data": {
      "text/plain": [
       "((1018760, 9), 34185)"
      ]
     },
     "execution_count": 6,
     "metadata": {},
     "output_type": "execute_result"
    }
   ],
   "source": [
    "# try dropping matching titles.\n",
    "covid_title_set = set([str(x) for x in covid.title.unique() if str(x) not in {'nan','None'}])\n",
    "pubmed[~pubmed.title.isin(covid_title_set)].shape, len(list(covid_title_set))"
   ]
  },
  {
   "cell_type": "code",
   "execution_count": 7,
   "metadata": {},
   "outputs": [
    {
     "data": {
      "text/plain": [
       "((1018760, 9), (34185, 22))"
      ]
     },
     "execution_count": 7,
     "metadata": {},
     "output_type": "execute_result"
    }
   ],
   "source": [
    "pubmed = pubmed[~pubmed.title.isin(covid_title_set)]\n",
    "pubmed.shape, covid.shape"
   ]
  },
  {
   "cell_type": "markdown",
   "metadata": {},
   "source": [
    "# Text pre-processing"
   ]
  },
  {
   "cell_type": "markdown",
   "metadata": {},
   "source": [
    "Pubmed has some odd peculiarities.\n",
    "- Adds '.' to the end of titles\n",
    "- Copyright statement in abstract\n",
    "- Some characters in pubmed not in cord-19\n",
    "\n",
    "Both datasets have occasionally 'Background' 'methods' 'abstract' etc showing up within the abstract.\n",
    "\n",
    "Want to avoid including non-semantic text features that might allow a classifier to discriminate between the 2 datasets."
   ]
  },
  {
   "cell_type": "code",
   "execution_count": 8,
   "metadata": {},
   "outputs": [],
   "source": [
    "# recall that pubmed adds '.' to titles. Delete this. \n",
    "pubmed['title'] = [str(x)[:-1] if str(x)[-1]=='.' else str(x) for x in pubmed['title']]\n",
    "covid['title'] = [str(x)[:-1] if str(x)[-1]=='.' else str(x) for x in covid['title']]"
   ]
  },
  {
   "cell_type": "markdown",
   "metadata": {},
   "source": [
    "Before appending abstracts, get rid of annoying copyright statements"
   ]
  },
  {
   "cell_type": "code",
   "execution_count": 9,
   "metadata": {},
   "outputs": [],
   "source": [
    "# from tools import pre_s"
   ]
  },
  {
   "cell_type": "code",
   "execution_count": 95,
   "metadata": {},
   "outputs": [],
   "source": [
    "from tools import pre_s"
   ]
  },
  {
   "cell_type": "code",
   "execution_count": 96,
   "metadata": {},
   "outputs": [],
   "source": [
    "%%time\n",
    "covid['abstract_pre'] = covid['abstract'].map(lambda x:pre_s(str(x).lower()))"
   ]
  },
  {
   "cell_type": "code",
   "execution_count": 97,
   "metadata": {},
   "outputs": [
    {
     "data": {
      "text/plain": [
       "<matplotlib.axes._subplots.AxesSubplot at 0x1f8dac1a688>"
      ]
     },
     "execution_count": 97,
     "metadata": {},
     "output_type": "execute_result"
    },
    {
     "data": {
      "image/png": "[encoded data removed]",
      "text/plain": [
       "<Figure size 432x288 with 1 Axes>"
      ]
     },
     "metadata": {
      "needs_background": "light"
     },
     "output_type": "display_data"
    }
   ],
   "source": [
    "# # # length comparison. did we delete too much text?\n",
    "delta_lens = []\n",
    "for i,row in covid.iterrows():\n",
    "    abstract = row['abstract']\n",
    "    abstract_pre = row['abstract_pre']\n",
    "    len_abs = len(str(abstract).split())\n",
    "    len_abs_pre = len(str(abstract_pre).split())\n",
    "    # what proportion of abstract are we deleting?\n",
    "    delta_lens.append((len_abs-len_abs_pre)/(len_abs+1))\n",
    "pd.Series(delta_lens).hist()"
   ]
  },
  {
   "cell_type": "code",
   "execution_count": null,
   "metadata": {},
   "outputs": [],
   "source": [
    "%%time\n",
    "pubmed['abstract_pre'] = pubmed['abstract'].map(lambda x:pre_s(str(x).lower()))"
   ]
  },
  {
   "cell_type": "code",
   "execution_count": 98,
   "metadata": {},
   "outputs": [
    {
     "data": {
      "text/plain": [
       "<matplotlib.axes._subplots.AxesSubplot at 0x1f8ee9b8e48>"
      ]
     },
     "execution_count": 98,
     "metadata": {},
     "output_type": "execute_result"
    },
    {
     "data": {
      "image/png": "[encoded data removed]",
      "text/plain": [
       "<Figure size 432x288 with 1 Axes>"
      ]
     },
     "metadata": {
      "needs_background": "light"
     },
     "output_type": "display_data"
    }
   ],
   "source": [
    "delta_lens = []\n",
    "for i,row in pubmed.iterrows():\n",
    "    abstract = row['abstract']\n",
    "    abstract_pre = row['abstract_pre']\n",
    "    len_abs = len(str(abstract).split())\n",
    "    len_abs_pre = len(str(abstract_pre).split())\n",
    "    # what proportion of abstract are we deleting?\n",
    "    delta_lens.append((len_abs-len_abs_pre)/(len_abs+1))\n",
    "pd.Series(delta_lens).hist()"
   ]
  },
  {
   "cell_type": "code",
   "execution_count": 108,
   "metadata": {},
   "outputs": [],
   "source": [
    "# check odd ones...\n",
    "\n",
    "pubmed['delta'] = delta_lens"
   ]
  },
  {
   "cell_type": "code",
   "execution_count": 109,
   "metadata": {},
   "outputs": [
    {
     "data": {
      "text/plain": [
       "(13064, 13)"
      ]
     },
     "execution_count": 109,
     "metadata": {},
     "output_type": "execute_result"
    }
   ],
   "source": [
    "# pubmed[[(x<0.0 or x>0.4) for x in pubmed['delta'].tolist()]].shape"
   ]
  },
  {
   "cell_type": "code",
   "execution_count": 110,
   "metadata": {},
   "outputs": [],
   "source": [
    "pubmed = pubmed[[(x>0.0 or x<0.4) for x in pubmed['delta'].tolist()]]"
   ]
  },
  {
   "cell_type": "code",
   "execution_count": 111,
   "metadata": {},
   "outputs": [],
   "source": [
    "# %%time\n",
    "# # check that preprocessing hasn't broken anything\n",
    "# length = 2000\n",
    "# pd.DataFrame({\n",
    "#               'Orig_abs':covid['abstract'].head(length),\n",
    "#               'Pre_abs': covid['abstract'].head(length).map(lambda x: pre_s(x))\n",
    "#              }).to_csv('deleteme.csv', index=False)"
   ]
  },
  {
   "cell_type": "code",
   "execution_count": 112,
   "metadata": {},
   "outputs": [],
   "source": [
    "pubmed['tiabs'] = pubmed['title'] +'. '+pubmed['abstract_pre']"
   ]
  },
  {
   "cell_type": "code",
   "execution_count": 113,
   "metadata": {},
   "outputs": [],
   "source": [
    "covid['tiabs'] = covid['title'] +'. '+covid['abstract_pre']"
   ]
  },
  {
   "cell_type": "markdown",
   "metadata": {},
   "source": [
    "## Detect language and remove non-english entries"
   ]
  },
  {
   "cell_type": "code",
   "execution_count": 105,
   "metadata": {},
   "outputs": [],
   "source": [
    "import langdetect"
   ]
  },
  {
   "cell_type": "code",
   "execution_count": 106,
   "metadata": {},
   "outputs": [
    {
     "name": "stdout",
     "output_type": "stream",
     "text": [
      "Wall time: 3min 14s\n"
     ]
    },
    {
     "data": {
      "text/plain": [
       "((34185, 24), (33845, 24))"
      ]
     },
     "execution_count": 106,
     "metadata": {},
     "output_type": "execute_result"
    }
   ],
   "source": [
    "%%time\n",
    "covid['lang'] = covid['tiabs'].map(lambda x: langdetect.detect(x))\n",
    "covid.shape, covid[covid['lang']=='en'].shape"
   ]
  },
  {
   "cell_type": "code",
   "execution_count": 107,
   "metadata": {},
   "outputs": [
    {
     "name": "stdout",
     "output_type": "stream",
     "text": [
      "Wall time: 1h 34min 49s\n"
     ]
    },
    {
     "data": {
      "text/plain": [
       "((1018760, 12), (1005668, 12))"
      ]
     },
     "execution_count": 107,
     "metadata": {},
     "output_type": "execute_result"
    }
   ],
   "source": [
    "%%time\n",
    "pubmed['lang'] = pubmed['tiabs'].map(lambda x: langdetect.detect(x))\n",
    "pubmed.shape, pubmed[pubmed['lang']=='en'].shape"
   ]
  },
  {
   "cell_type": "code",
   "execution_count": null,
   "metadata": {},
   "outputs": [],
   "source": []
  },
  {
   "cell_type": "code",
   "execution_count": null,
   "metadata": {},
   "outputs": [],
   "source": []
  },
  {
   "cell_type": "code",
   "execution_count": 114,
   "metadata": {},
   "outputs": [],
   "source": [
    "pubmed = pubmed[pubmed['lang']=='en']\n",
    "covid = covid[covid['lang']=='en']"
   ]
  },
  {
   "cell_type": "code",
   "execution_count": 8,
   "metadata": {},
   "outputs": [
    {
     "data": {
      "text/plain": [
       "((1020653, 10), (34185, 22))"
      ]
     },
     "execution_count": 8,
     "metadata": {},
     "output_type": "execute_result"
    }
   ],
   "source": [
    "pubmed.shape, covid.shape"
   ]
  },
  {
   "cell_type": "markdown",
   "metadata": {},
   "source": [
    "# drop nas"
   ]
  },
  {
   "cell_type": "code",
   "execution_count": 115,
   "metadata": {},
   "outputs": [
    {
     "data": {
      "text/plain": [
       "((1005668, 13), (33845, 24))"
      ]
     },
     "execution_count": 115,
     "metadata": {},
     "output_type": "execute_result"
    }
   ],
   "source": [
    "pubmed = pubmed[~pubmed['tiabs'].isna()]\n",
    "covid = covid[~covid['tiabs'].isna()]\n",
    "pubmed.shape, covid.shape"
   ]
  },
  {
   "cell_type": "markdown",
   "metadata": {},
   "source": [
    "I'm concerned that we haven't filtered out enough covid-related content from the pubmed part of this to get a good classifier.\n",
    "\n",
    "Inevitably, we are going to have some issues because the 2 datasets do not definitely define what IS and IS not covid-related. But without that, we can still make something that works generally.\n",
    "\n",
    "- Consider using keywords to drop more content from pubmed."
   ]
  },
  {
   "cell_type": "markdown",
   "metadata": {},
   "source": [
    "#### Get rid of any odd characters\n",
    "Sometimes, we see odd characters and odd pieces of language which are not in one set or the other. \n",
    "- In some cases, we should probably replace these. E.g. consistent use of dashes, M-rules, N-rules and consistent use of different types of inverted commas \"\\'\\` etc.\n",
    "- Here we are simply deleting odd characters."
   ]
  },
  {
   "cell_type": "code",
   "execution_count": 116,
   "metadata": {},
   "outputs": [],
   "source": [
    "# any unusual features in one set and not the other\n",
    "\n",
    "pubmed_chars = []\n",
    "for tiabs in pubmed['tiabs'].values:\n",
    "    pubmed_chars.extend([x for x in str(tiabs)])\n",
    "    pubmed_chars = list(set(pubmed_chars))\n",
    "pubmed_set = set(pubmed_chars)\n",
    "\n",
    "covid_chars = []\n",
    "for tiabs in covid['tiabs'].values:\n",
    "    covid_chars.extend([x for x in str(tiabs)])\n",
    "    covid_chars = list(set(covid_chars))\n",
    "covid_set =  set(covid_chars)\n",
    "drop_chars = covid_chars+pubmed_chars\n",
    "# [x for x in covid_chars if x not in pubmed_set], [x for x in pubmed_chars if x not in covid_set]\n",
    "                 "
   ]
  },
  {
   "cell_type": "code",
   "execution_count": 117,
   "metadata": {},
   "outputs": [],
   "source": [
    "# drop_chars"
   ]
  },
  {
   "cell_type": "code",
   "execution_count": 118,
   "metadata": {},
   "outputs": [],
   "source": [
    "def drop_unusual_chars(x, drop_chars):\n",
    "    for drop_char in drop_chars:\n",
    "        x.replace(drop_char,'')\n",
    "    return x\n",
    "pubmed['tiabs'] = pubmed['tiabs'].map(lambda x: drop_unusual_chars(x, drop_chars))\n",
    "covid['tiabs'] = covid['tiabs'].map(lambda x: drop_unusual_chars(x, drop_chars))"
   ]
  },
  {
   "cell_type": "markdown",
   "metadata": {},
   "source": [
    "# replace any linebreaks with spaces"
   ]
  },
  {
   "cell_type": "code",
   "execution_count": 119,
   "metadata": {},
   "outputs": [],
   "source": [
    "pubmed['tiabs'] = [x.replace('\\n',' ') for x in pubmed['tiabs'].values]\n",
    "covid['tiabs'] = [x.replace('\\n',' ') for x in covid['tiabs'].values]"
   ]
  },
  {
   "cell_type": "markdown",
   "metadata": {},
   "source": [
    "# Drop length-outliers\n",
    "Get rid of super-short or super-long pieces of text. This will include:\n",
    "- odd articles like missing abstracts or very long articles (e.g. editorial or book chapter that ended up in my abstract field)"
   ]
  },
  {
   "cell_type": "code",
   "execution_count": 140,
   "metadata": {},
   "outputs": [
    {
     "data": {
      "text/plain": [
       "<matplotlib.axes._subplots.AxesSubplot at 0x1f8b565a408>"
      ]
     },
     "execution_count": 140,
     "metadata": {},
     "output_type": "execute_result"
    },
    {
     "data": {
      "image/png": "[encoded data removed]",
      "text/plain": [
       "<Figure size 432x288 with 1 Axes>"
      ]
     },
     "metadata": {
      "needs_background": "light"
     },
     "output_type": "display_data"
    }
   ],
   "source": [
    "pd.Series([len(str(x).split()) for x in covid['tiabs'].values]).hist(bins=100)"
   ]
  },
  {
   "cell_type": "code",
   "execution_count": 141,
   "metadata": {},
   "outputs": [
    {
     "data": {
      "text/plain": [
       "<matplotlib.axes._subplots.AxesSubplot at 0x1f9f580af88>"
      ]
     },
     "execution_count": 141,
     "metadata": {},
     "output_type": "execute_result"
    },
    {
     "data": {
      "image/png": "[encoded data removed]",
      "text/plain": [
       "<Figure size 432x288 with 1 Axes>"
      ]
     },
     "metadata": {
      "needs_background": "light"
     },
     "output_type": "display_data"
    }
   ],
   "source": [
    "pd.Series([len(str(x).split()) for x in pubmed['tiabs'].values]).hist(bins=100)"
   ]
  },
  {
   "cell_type": "code",
   "execution_count": 120,
   "metadata": {},
   "outputs": [],
   "source": [
    "pubmed = pubmed[[(len(str(x).split())>50) and (len(str(x).split())<500) for x in pubmed['tiabs'].values]]\n",
    "covid = covid[[(len(str(x).split())>50) and (len(str(x).split())<500) for x in covid['tiabs'].values]]"
   ]
  },
  {
   "cell_type": "code",
   "execution_count": null,
   "metadata": {},
   "outputs": [],
   "source": []
  },
  {
   "cell_type": "markdown",
   "metadata": {},
   "source": [
    "Some pubmed articles have capitalised titles. Try lower-casing everything."
   ]
  },
  {
   "cell_type": "code",
   "execution_count": 121,
   "metadata": {},
   "outputs": [],
   "source": [
    "covid['tiabs'] = covid['tiabs'].map(lambda x: x.lower())\n",
    "pubmed['tiabs'] = pubmed['tiabs'].map(lambda x: x.lower())"
   ]
  },
  {
   "cell_type": "markdown",
   "metadata": {},
   "source": [
    "# Get rid of any null values\n",
    "Our cleaning process might have created a few null entries. Drop those lines. "
   ]
  },
  {
   "cell_type": "code",
   "execution_count": 124,
   "metadata": {},
   "outputs": [
    {
     "data": {
      "text/plain": [
       "((33654, 24), (862887, 13))"
      ]
     },
     "execution_count": 124,
     "metadata": {},
     "output_type": "execute_result"
    }
   ],
   "source": [
    "covid =  covid.dropna(subset=['tiabs'],axis =0)\n",
    "pubmed = pubmed.dropna(subset=['tiabs'],axis =0)\n",
    "covid.shape, pubmed.shape"
   ]
  },
  {
   "cell_type": "markdown",
   "metadata": {},
   "source": [
    "## Build datasets"
   ]
  },
  {
   "cell_type": "code",
   "execution_count": 125,
   "metadata": {},
   "outputs": [],
   "source": [
    "# add a response columne\n",
    "covid['covid'] = 1\n",
    "pubmed['covid'] = 0"
   ]
  },
  {
   "cell_type": "code",
   "execution_count": null,
   "metadata": {},
   "outputs": [],
   "source": []
  },
  {
   "cell_type": "code",
   "execution_count": null,
   "metadata": {},
   "outputs": [],
   "source": []
  },
  {
   "cell_type": "code",
   "execution_count": 126,
   "metadata": {},
   "outputs": [],
   "source": [
    "# # write out all data\n",
    "pd.concat([pubmed,covid]).to_csv('data/all.csv', encoding = 'utf-8-sig')"
   ]
  },
  {
   "cell_type": "markdown",
   "metadata": {},
   "source": [
    "## For model training\n",
    "If you are training a model, you want to get a large sample of pubmed which you can use to teach it what that corpus looks like.\n",
    "\n",
    "If you are NOT training a model (just a classifier), then you just need a large sample of cord-19 and a representative sample of pubmed. Ideally these should be the same size."
   ]
  },
  {
   "cell_type": "code",
   "execution_count": 127,
   "metadata": {},
   "outputs": [],
   "source": [
    "covid = covid.reset_index()"
   ]
  },
  {
   "cell_type": "code",
   "execution_count": 128,
   "metadata": {},
   "outputs": [
    {
     "data": {
      "text/plain": [
       "((20192, 26), (6731, 26), (6731, 26))"
      ]
     },
     "execution_count": 128,
     "metadata": {},
     "output_type": "execute_result"
    }
   ],
   "source": [
    "# set a random_state variable so that we get the same datasets if we re-run this notebook later with the same input.\n",
    "rs = 100\n",
    "# create train/test/dev sets for cord-19 dataset\n",
    "\n",
    "covid_train = covid.sample(int(0.6*covid.shape[0]), random_state = rs)\n",
    "covid_devtest = covid[~covid['index'].isin(set(covid_train['index']))]\n",
    "covid_dev = covid_devtest.sample(int(covid_devtest.shape[0]/2), random_state = rs)\n",
    "covid_test = covid_devtest[~covid_devtest['index'].isin(set(covid_dev['index']))]\n",
    "covid_train.shape, covid_dev.shape, covid_test.shape"
   ]
  },
  {
   "cell_type": "code",
   "execution_count": 129,
   "metadata": {},
   "outputs": [
    {
     "data": {
      "text/plain": [
       "((849401, 14), (6731, 14), (6731, 14))"
      ]
     },
     "execution_count": 129,
     "metadata": {},
     "output_type": "execute_result"
    }
   ],
   "source": [
    "# create train/test/dev sets for pubmed data\n",
    "pubmed_test = pubmed.sample(covid_dev.shape[0], random_state = rs)\n",
    "pubmed_traindev = pubmed[~pubmed['pmid'].isin(set(pubmed_test['pmid']))]\n",
    "pubmed_dev = pubmed_traindev.sample(covid_dev.shape[0], random_state = rs)\n",
    "pubmed_train = pubmed_traindev[~pubmed_traindev['pmid'].isin(set(pubmed_dev['pmid']))]\n",
    "\n",
    "pubmed_train.shape, pubmed_dev.shape, pubmed_test.shape"
   ]
  },
  {
   "cell_type": "code",
   "execution_count": 130,
   "metadata": {},
   "outputs": [
    {
     "data": {
      "text/plain": [
       "((869593, 32), (13462, 32), (13462, 32))"
      ]
     },
     "execution_count": 130,
     "metadata": {},
     "output_type": "execute_result"
    }
   ],
   "source": [
    "# combine the train,test,dev subsets for pubmed and cord19 into dataframes\n",
    "train = pd.concat([pubmed_train, covid_train])\n",
    "test = pd.concat([pubmed_test, covid_test])\n",
    "dev = pd.concat([pubmed_dev, covid_dev])\n",
    "\n",
    "# randomize\n",
    "train = train.sample(train.shape[0], random_state=rs)\n",
    "test = test.sample(test.shape[0], random_state=rs)\n",
    "dev = dev.sample(dev.shape[0], random_state=rs)\n",
    "\n",
    "train.shape, test.shape, dev.shape"
   ]
  },
  {
   "cell_type": "code",
   "execution_count": 139,
   "metadata": {},
   "outputs": [
    {
     "data": {
      "text/plain": [
       "Index(['venue', 'title', 'abstract', 'year', 'articledate', 'doi', 'pmid',\n",
       "       'pii', 'pmc', 'abstract_pre', 'tiabs', 'lang', 'delta', 'covid',\n",
       "       'index', 'pid', 'source_x', 'pmcid', 'pubmed_id', 'license',\n",
       "       'publish_time', 'authors', 'journal', 'Microsoft Academic Paper ID',\n",
       "       'WHO #Covidence', 'has_full_text', 'full_text_file', 'journal-short',\n",
       "       'pubdate', 'issns', 'publisher', 'cr_dates'],\n",
       "      dtype='object')"
      ]
     },
     "execution_count": 139,
     "metadata": {},
     "output_type": "execute_result"
    }
   ],
   "source": [
    "train.columns"
   ]
  },
  {
   "cell_type": "markdown",
   "metadata": {},
   "source": [
    "## Write out"
   ]
  },
  {
   "cell_type": "code",
   "execution_count": 131,
   "metadata": {},
   "outputs": [],
   "source": [
    "train.to_csv('data/train.csv', encoding = 'utf-8-sig',index=False)\n",
    "test.to_csv('data/test.csv', encoding = 'utf-8-sig',index=False)\n",
    "dev.to_csv('data/dev.csv', encoding = 'utf-8-sig',index=False)"
   ]
  },
  {
   "cell_type": "markdown",
   "metadata": {},
   "source": [
    "# If we are using SciSpacy, we don't necessarily need such a large training set. \n",
    "We already have a model which should have the features we need in it. So hopefully we don't need a lot of examples to train the classifier.\n",
    "\n",
    "Try using these datasets and see how that goes. "
   ]
  },
  {
   "cell_type": "code",
   "execution_count": null,
   "metadata": {},
   "outputs": [],
   "source": []
  },
  {
   "cell_type": "code",
   "execution_count": 132,
   "metadata": {},
   "outputs": [
    {
     "data": {
      "text/plain": [
       "((26923, 26), (6731, 26))"
      ]
     },
     "execution_count": 132,
     "metadata": {},
     "output_type": "execute_result"
    }
   ],
   "source": [
    "# set a random_state variable so that we get the same datasets if we re-run this notebook later with the same input.\n",
    "rs = 100\n",
    "# create train/test/dev sets for cord-19 dataset\n",
    "covid_train = covid.sample(int(0.8*covid.shape[0]), random_state = rs)\n",
    "covid_test = covid[~covid['index'].isin(set(covid_train['index']))]\n",
    "covid_train.shape, covid_test.shape"
   ]
  },
  {
   "cell_type": "code",
   "execution_count": 133,
   "metadata": {},
   "outputs": [
    {
     "data": {
      "text/plain": [
       "((26923, 14), (6731, 14))"
      ]
     },
     "execution_count": 133,
     "metadata": {},
     "output_type": "execute_result"
    }
   ],
   "source": [
    "# create train/test/dev sets for pubmed data\n",
    "pubmed_test = pubmed.sample(covid_test.shape[0], random_state = rs)\n",
    "pubmed = pubmed[~pubmed['pmid'].isin(set(pubmed_test['pmid']))]\n",
    "pubmed_train = pubmed[~pubmed['pmid'].isin(set(pubmed_test['pmid']))].sample(int(0.8*covid.shape[0]), random_state = rs)\n",
    "\n",
    "pubmed_train.shape, pubmed_test.shape"
   ]
  },
  {
   "cell_type": "code",
   "execution_count": 134,
   "metadata": {},
   "outputs": [
    {
     "data": {
      "text/plain": [
       "((53846, 32), (13462, 32))"
      ]
     },
     "execution_count": 134,
     "metadata": {},
     "output_type": "execute_result"
    }
   ],
   "source": [
    "# combine the train,test,dev subsets for pubmed and cord19 into dataframes\n",
    "train = pd.concat([pubmed_train, covid_train])\n",
    "test = pd.concat([pubmed_test, covid_test])\n",
    "\n",
    "# randomize again...\n",
    "train = train.sample(train.shape[0], random_state=rs)\n",
    "test = test.sample(test.shape[0], random_state=rs)\n",
    "\n",
    "train.shape, test.shape"
   ]
  },
  {
   "cell_type": "markdown",
   "metadata": {},
   "source": [
    "# any duplicates? leakage?"
   ]
  },
  {
   "cell_type": "code",
   "execution_count": 135,
   "metadata": {},
   "outputs": [
    {
     "data": {
      "text/plain": [
       "(53841, 53846, 13461, 13462, 0, 0)"
      ]
     },
     "execution_count": 135,
     "metadata": {},
     "output_type": "execute_result"
    }
   ],
   "source": [
    "train_titles = set(train['tiabs'].values)\n",
    "test_titles = set(test['tiabs'].values)\n",
    "train_in_test = len([x for x in test['tiabs'] if x in train_titles])\n",
    "test_in_train = len([x for x in train['tiabs'] if x in test_titles])\n",
    "len(train_titles), len(train['tiabs'].values),len(test_titles), len(test['tiabs'].values), train_in_test, test_in_train"
   ]
  },
  {
   "cell_type": "code",
   "execution_count": 136,
   "metadata": {},
   "outputs": [],
   "source": [
    "assert [x for x in train['title'] if x in test_titles] == []"
   ]
  },
  {
   "cell_type": "markdown",
   "metadata": {},
   "source": [
    "Don't see any signs of data leakage. Some titles are null, but we knew that. "
   ]
  },
  {
   "cell_type": "markdown",
   "metadata": {},
   "source": [
    "## Write out"
   ]
  },
  {
   "cell_type": "code",
   "execution_count": 137,
   "metadata": {},
   "outputs": [
    {
     "data": {
      "text/plain": [
       "((53846, 32), (13462, 32))"
      ]
     },
     "execution_count": 137,
     "metadata": {},
     "output_type": "execute_result"
    }
   ],
   "source": [
    "train.shape, test.shape"
   ]
  },
  {
   "cell_type": "code",
   "execution_count": 138,
   "metadata": {},
   "outputs": [],
   "source": [
    "train.to_csv('data/train_scispacy.csv', encoding = 'utf-8-sig',index=False)\n",
    "test.to_csv('data/test_scispacy.csv', encoding = 'utf-8-sig',index=False)\n"
   ]
  }
 ],
 "metadata": {
  "kernelspec": {
   "display_name": ".venv",
   "language": "python",
   "name": ".venv"
  },
  "language_info": {
   "codemirror_mode": {
    "name": "ipython",
    "version": 3
   },
   "file_extension": ".py",
   "mimetype": "text/x-python",
   "name": "python",
   "nbconvert_exporter": "python",
   "pygments_lexer": "ipython3",
   "version": "3.7.4"
  }
 },
 "nbformat": 4,
 "nbformat_minor": 4
}
