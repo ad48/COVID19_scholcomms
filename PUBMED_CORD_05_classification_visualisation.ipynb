{
 "cells": [
  {
   "cell_type": "code",
   "execution_count": 4,
   "metadata": {},
   "outputs": [],
   "source": [
    "import pickle\n",
    "import os\n",
    "import pandas as pd\n",
    "import numpy as np\n",
    "from sklearn.svm import SVC\n",
    "from bokeh.io import show\n",
    "from bokeh.models import ColumnDataSource\n",
    "from bokeh.palettes import RdBu3\n",
    "from bokeh.plotting import figure\n",
    "from bokeh.plotting import *\n",
    "# from bokeh.models import ColumnDataSource, OpenURL, TapTool\n",
    "from bokeh.models import *\n",
    "from bokeh.io import output_notebook\n",
    "import seaborn as sns"
   ]
  },
  {
   "cell_type": "code",
   "execution_count": 5,
   "metadata": {},
   "outputs": [
    {
     "output_type": "execute_result",
     "data": {
      "text/plain": "(896541, 32)"
     },
     "metadata": {},
     "execution_count": 5
    }
   ],
   "source": [
    "# read in all data\n",
    "df = pd.read_csv('data/all.csv', dtype=str)\n",
    "df.shape"
   ]
  },
  {
   "cell_type": "code",
   "execution_count": 6,
   "metadata": {},
   "outputs": [
    {
     "output_type": "execute_result",
     "data": {
      "text/plain": "Index(['Unnamed: 0', 'venue', 'title', 'abstract', 'year', 'articledate',\n       'doi', 'pmid', 'pii', 'pmc', 'abstract_pre', 'tiabs', 'lang', 'delta',\n       'covid', 'pid', 'source_x', 'pmcid', 'pubmed_id', 'license',\n       'publish_time', 'authors', 'journal', 'Microsoft Academic Paper ID',\n       'WHO #Covidence', 'has_full_text', 'full_text_file', 'journal-short',\n       'pubdate', 'issns', 'publisher', 'cr_dates'],\n      dtype='object')"
     },
     "metadata": {},
     "execution_count": 6
    }
   ],
   "source": [
    "df.columns"
   ]
  },
  {
   "cell_type": "code",
   "execution_count": 7,
   "metadata": {},
   "outputs": [],
   "source": [
    "# X_dense = np.load('data/all_scispacy_vecs.npy')"
   ]
  },
  {
   "cell_type": "code",
   "execution_count": 8,
   "metadata": {},
   "outputs": [
    {
     "output_type": "execute_result",
     "data": {
      "text/plain": "(917811, 200)"
     },
     "metadata": {},
     "execution_count": 8
    }
   ],
   "source": [
    "# X_dense.shape"
   ]
  },
  {
   "cell_type": "code",
   "execution_count": 66,
   "metadata": {},
   "outputs": [
    {
     "ename": "AssertionError",
     "evalue": "",
     "output_type": "error",
     "traceback": [
      "\u001b[1;31m---------------------------------------------------------------------------\u001b[0m",
      "\u001b[1;31mAssertionError\u001b[0m                            Traceback (most recent call last)",
      "\u001b[1;32m<ipython-input-66-61333438bc19>\u001b[0m in \u001b[0;36m<module>\u001b[1;34m\u001b[0m\n\u001b[0;32m      1\u001b[0m \u001b[1;31m# check that data is the correct shape\u001b[0m\u001b[1;33m\u001b[0m\u001b[1;33m\u001b[0m\u001b[1;33m\u001b[0m\u001b[0m\n\u001b[1;32m----> 2\u001b[1;33m \u001b[1;32massert\u001b[0m \u001b[0mxy\u001b[0m\u001b[1;33m.\u001b[0m\u001b[0mshape\u001b[0m\u001b[1;33m[\u001b[0m\u001b[1;36m0\u001b[0m\u001b[1;33m]\u001b[0m \u001b[1;33m==\u001b[0m \u001b[0mdf\u001b[0m\u001b[1;33m.\u001b[0m\u001b[0mshape\u001b[0m\u001b[1;33m[\u001b[0m\u001b[1;36m0\u001b[0m\u001b[1;33m]\u001b[0m\u001b[1;33m\u001b[0m\u001b[1;33m\u001b[0m\u001b[0m\n\u001b[0m",
      "\u001b[1;31mAssertionError\u001b[0m: "
     ]
    }
   ],
   "source": [
    "xy = np.load('data/2d_scispacy_s2_pubmed_all_corpus.npy')\n",
    "xy.shape"
   ]
  },
  {
   "cell_type": "code",
   "execution_count": null,
   "metadata": {},
   "outputs": [],
   "source": [
    "# check that data is the correct shape\n",
    "assert xy.shape[0] == df.shape[0]\n",
    "df['x'] = xy[:,0]\n",
    "df['y'] = xy[:,1]\n",
    "df.shape"
   ]
  },
  {
   "cell_type": "code",
   "execution_count": null,
   "metadata": {},
   "outputs": [],
   "source": [
    "# subset the pubmed stuff\n",
    "df = pd.concat([df[df['covid']=='0'].sample(10000, random_state=100), df[df['covid']=='1']])\n",
    "df.shape"
   ]
  },
  {
   "cell_type": "code",
   "execution_count": 9,
   "metadata": {},
   "outputs": [],
   "source": [
    "import spacy\n",
    "from tools import pre_s, add_check_cols\n",
    "spacy.prefer_gpu()\n",
    "output_dir = 'models/spacy_textcategorizer'\n",
    "nlp = spacy.load(output_dir)"
   ]
  },
  {
   "cell_type": "code",
   "execution_count": 10,
   "metadata": {},
   "outputs": [
    {
     "output_type": "stream",
     "name": "stdout",
     "text": "adding keyword checks to dataframe (896541, 32)\n"
    }
   ],
   "source": [
    "df = add_check_cols(df)\n",
    "\n",
    "out = []\n",
    "for i,row in df.iterrows():\n",
    "    text = str(row['tiabs'])\n",
    "    abstract = str(row['abstract_pre'])\n",
    "    if (len(text.split())>=20) and (len(text.split())<500):\n",
    "        doc = nlp(text)\n",
    "        out.append((doc.cats['POSITIVE'],doc.cats['NEGATIVE']))\n",
    "    elif 'no abstract' in abstract or 'abstract not req' in abstract:\n",
    "        out.append(('********* Abstract missing? *********','********* Abstract missing? *********'))\n",
    "    else:\n",
    "        out.append(('********* Input too short/long *********','********* Input too short/long *********'))\n",
    "\n",
    "\n",
    "df['prob'] = [x[0] for x in out]\n",
    "df['pred'] = [1 if type(x[0])==float and x[0]>=0.5 else 0 for x in out]"
   ]
  },
  {
   "cell_type": "code",
   "execution_count": 62,
   "metadata": {},
   "outputs": [
    {
     "data": {
      "text/plain": [
       "<matplotlib.axes._subplots.AxesSubplot at 0x195ec6c2d48>"
      ]
     },
     "execution_count": 62,
     "metadata": {},
     "output_type": "execute_result"
    },
    {
     "data": {
      "image/png": "[encoded data removed]",
      "text/plain": [
       "<Figure size 432x288 with 1 Axes>"
      ]
     },
     "metadata": {
      "needs_background": "light"
     },
     "output_type": "display_data"
    }
   ],
   "source": [
    "df['prob'].hist()"
   ]
  },
  {
   "cell_type": "code",
   "execution_count": 63,
   "metadata": {},
   "outputs": [
    {
     "data": {
      "text/plain": [
       "<matplotlib.axes._subplots.AxesSubplot at 0x195ec6c0b88>"
      ]
     },
     "execution_count": 63,
     "metadata": {},
     "output_type": "execute_result"
    },
    {
     "data": {
      "image/png": "[encoded data removed]",
      "text/plain": [
       "<Figure size 432x288 with 1 Axes>"
      ]
     },
     "metadata": {
      "needs_background": "light"
     },
     "output_type": "display_data"
    }
   ],
   "source": [
    "from sklearn.preprocessing import StandardScaler, Normalizer, RobustScaler, MinMaxScaler\n",
    "# choose a scaler\n",
    "scaler = MinMaxScaler() # StandardScaler()# RobustScaler() # Normalizer() # \n",
    "scaler.fit(np.array(df['prob'].values).reshape(-1, 1))\n",
    "transformed_probs = scaler.transform(np.array(df['prob'].values).reshape(-1, 1))\n",
    "df['prob_normed'] = transformed_probs # 0.1*(transformed_probs[:,0]+5)\n",
    "df['prob_normed'].hist(bins=100)"
   ]
  },
  {
   "cell_type": "code",
   "execution_count": 64,
   "metadata": {},
   "outputs": [
    {
     "data": {
      "text/plain": [
       "(1.0, 0.0)"
      ]
     },
     "execution_count": 64,
     "metadata": {},
     "output_type": "execute_result"
    }
   ],
   "source": [
    "df['prob_normed'].max(), df['prob_normed'].min()"
   ]
  },
  {
   "cell_type": "markdown",
   "metadata": {
    "hideCode": false,
    "hidePrompt": false
   },
   "source": [
    "## Colour clusters by average citation rates\n",
    "This is where we define our colour scheme. "
   ]
  },
  {
   "cell_type": "code",
   "execution_count": null,
   "metadata": {},
   "outputs": [],
   "source": [
    "# !conda install seaborn"
   ]
  },
  {
   "cell_type": "code",
   "execution_count": null,
   "metadata": {
    "hideCode": false,
    "hidePrompt": false
   },
   "outputs": [],
   "source": [
    "import seaborn as sns\n",
    "sns.palplot(sns.color_palette(\"YlOrRd\", 50))#[::-1])"
   ]
  },
  {
   "cell_type": "code",
   "execution_count": null,
   "metadata": {},
   "outputs": [],
   "source": []
  },
  {
   "cell_type": "code",
   "execution_count": null,
   "metadata": {
    "hideCode": false,
    "hidePrompt": false
   },
   "outputs": [],
   "source": [
    "n_colours = 20\n",
    "\n",
    "# define the palette\n",
    "palette = sns.color_palette(\"YlOrRd\", n_colours+1).as_hex()[::-1] # note +1 to fix rounding errors\n",
    "\n",
    "i=0\n",
    "colours=[]\n",
    "colour_numerics = []\n",
    "for prob in df['prob_normed'].tolist():\n",
    "    colour_no = max(int((n_colours-1)*(prob)),0)\n",
    "#     print(colour_no)\n",
    "    colour_numerics.append(colour_no)\n",
    "    colr = palette[colour_no]\n",
    "    colours.append(colr)\n",
    "    i+=1\n",
    "df['colour'] = colours"
   ]
  },
  {
   "cell_type": "markdown",
   "metadata": {},
   "source": [
    "Check the distribution of the colours.  In some datasets, you'll find a poor distribution of red/orange/yellow simply due to the distribution of citations in the dataset.  Worth fiddling with the code to make the diferences stand out.  "
   ]
  },
  {
   "cell_type": "code",
   "execution_count": null,
   "metadata": {},
   "outputs": [],
   "source": [
    "pd.Series(colour_numerics).hist()"
   ]
  },
  {
   "cell_type": "markdown",
   "metadata": {},
   "source": [
    "## Visualisation"
   ]
  },
  {
   "cell_type": "code",
   "execution_count": null,
   "metadata": {},
   "outputs": [],
   "source": [
    "%%time\n",
    "every_nth = 1 # recommend setting this to 20 for 'train' datasets\n",
    "n_features = 500"
   ]
  },
  {
   "cell_type": "code",
   "execution_count": null,
   "metadata": {},
   "outputs": [],
   "source": [
    "df['index'] = df.index\n",
    "df.head()"
   ]
  },
  {
   "cell_type": "code",
   "execution_count": null,
   "metadata": {},
   "outputs": [],
   "source": []
  },
  {
   "cell_type": "code",
   "execution_count": null,
   "metadata": {},
   "outputs": [],
   "source": []
  },
  {
   "cell_type": "markdown",
   "metadata": {},
   "source": [
    "# Add a colours column"
   ]
  },
  {
   "cell_type": "code",
   "execution_count": null,
   "metadata": {},
   "outputs": [],
   "source": [
    "# add links so that datapoints are clickable\n",
    "\n",
    "links = []\n",
    "for i,row in df.iterrows():\n",
    "    if len(str(row['doi']))>3:\n",
    "        links.append('http://doi.org/'+str(row['doi']))\n",
    "    elif len(str(row['pmid']))>3:\n",
    "        links.append('https://www.ncbi.nlm.nih.gov/pubmed/?term='+str(row['pmid']))\n",
    "    else:\n",
    "        links.append('https://www.semanticscholar.org/paper/'+str(row['pid']))\n",
    "\n",
    "df['Link'] = links"
   ]
  },
  {
   "cell_type": "code",
   "execution_count": null,
   "metadata": {},
   "outputs": [],
   "source": []
  },
  {
   "cell_type": "markdown",
   "metadata": {},
   "source": [
    "# Quick visualise with MatplotLib\n",
    "This visualisation doesn't use a lot of memory and gives us a png image of the data which is easy to share. The "
   ]
  },
  {
   "cell_type": "code",
   "execution_count": null,
   "metadata": {},
   "outputs": [],
   "source": [
    "from matplotlib import pyplot as plt\n",
    "fig, ax = plt.subplots(figsize=(20, 10))\n",
    "plt.scatter(df['x'], \n",
    "            df['y'], \n",
    "            s= 5, \n",
    "            c=colours, \n",
    "            cmap='Spectral',\n",
    "           alpha = 0.4)\n",
    "plt.title('Embedding of the CORD-19 dataset plus a sample of Pubmed', fontsize=16);\n",
    "plt.savefig('output/S2_plt.png')"
   ]
  },
  {
   "cell_type": "markdown",
   "metadata": {
    "hideCode": false,
    "hidePrompt": false
   },
   "source": [
    "## Bokeh code\n",
    "The first step is to define a few things that will go into the plot.\n",
    "\n",
    "#### Hover tool\n",
    "The hover tool defines what happens when you hover your mouse over the plot. "
   ]
  },
  {
   "cell_type": "code",
   "execution_count": null,
   "metadata": {},
   "outputs": [],
   "source": [
    "hover = HoverTool(\n",
    "        tooltips=[\n",
    "#             (\"index\", \"$index\"),\n",
    "#             (\"(x,y)\", \"($x, $y)\"),\n",
    "            (\"Journal\", \"@venue\"),\n",
    "            (\"DOI\", \"@doi\"),\n",
    "            (\"Title\",\"@new_title\"),\n",
    "            (\"Probability\",\"@prob\"),\n",
    "            ('Year','@year'),\n",
    "                ])"
   ]
  },
  {
   "cell_type": "code",
   "execution_count": null,
   "metadata": {},
   "outputs": [],
   "source": [
    "output_notebook()"
   ]
  },
  {
   "cell_type": "code",
   "execution_count": null,
   "metadata": {
    "hideCode": false,
    "hidePrompt": false
   },
   "outputs": [],
   "source": [
    "# which interactive tools do we want to include with the visualisation?\n",
    "TOOLS = [BoxSelectTool(), hover, 'tap','box_zoom','reset', 'crosshair',\n",
    "         'pan','wheel_zoom','previewsave'] #,HoverTool()] # just say 'HoverTool()' for the default"
   ]
  },
  {
   "cell_type": "code",
   "execution_count": null,
   "metadata": {
    "hideCode": false,
    "hidePrompt": false
   },
   "outputs": [],
   "source": [
    "# set the transparency of datapoints \n",
    "df['Alpha'] = 0.2"
   ]
  },
  {
   "cell_type": "markdown",
   "metadata": {
    "hideCode": false,
    "hidePrompt": false
   },
   "source": [
    "## Build plot\n",
    "This is where we define the figure itself using the Bokeh package."
   ]
  },
  {
   "cell_type": "code",
   "execution_count": null,
   "metadata": {},
   "outputs": [],
   "source": [
    "# df['covid'] = df['covid'].map(lambda x: str(x))"
   ]
  },
  {
   "cell_type": "code",
   "execution_count": null,
   "metadata": {},
   "outputs": [],
   "source": [
    "# df = df[['x','y','covid','Alpha','doi','venue','title','year']]"
   ]
  },
  {
   "cell_type": "code",
   "execution_count": null,
   "metadata": {
    "hideCode": false,
    "hidePrompt": false
   },
   "outputs": [],
   "source": [
    "# https://stackoverflow.com/questions/41856999/bokeh-plots-just-bring-up-a-blank-window\n",
    "# BOKEH_RESOURCES=inline\n",
    "plot_title = 'Classification of CORD-19 dataset (yellow) and random sample of PubMed (red)'\n",
    "\n",
    "# plotting\n",
    "p = figure(plot_width=1200, plot_height=800,\n",
    "           title=plot_title,  # specified in the config file!\n",
    "           tools=TOOLS,\n",
    "          x_axis_label = \"Textual similarity axis_1 (arbitrary units)\",\n",
    "          y_axis_label = 'Textual similarity axis_2 (arbitrary units)') # , active_inspect=None)\n",
    "\n",
    "# p.toolbar.active_inspect = ['crosshair', hover]\n",
    "\n",
    "p.background_fill_color = \"black\"\n",
    "\n",
    "p.circle(x = 'x' , \n",
    "         y = 'y', \n",
    "#           legend = 'Division',\n",
    "         size = 5, # 'Sizes',\n",
    "         color = 'colour',\n",
    "         alpha = 'Alpha', \n",
    "         line_alpha = 0,\n",
    "         legend = 'pubmed',\n",
    "         source = ColumnDataSource(df[df['covid']=='0']))  # This conversion to ColumnDataSource is crucial.\n",
    "\n",
    "p.circle(x = 'x' , \n",
    "         y = 'y', \n",
    "#           legend = 'Division',\n",
    "         size = 5, # 'Sizes',\n",
    "         color = 'colour',\n",
    "         alpha = 'Alpha', \n",
    "         line_alpha = 0,\n",
    "         legend = 'cord-19',\n",
    "         source = ColumnDataSource(df[df['covid']=='1']))  # This conversion to ColumnDataSource is crucial.\n",
    "\n",
    "p.legend.location = \"top_right\"\n",
    "p.legend.click_policy=\"hide\"\n",
    "# p.legend.text = ['No journal' if len(x)<=3 else 'published' for x in df['venue']]\n",
    "\n",
    "\n",
    "# drop gridlines\n",
    "p.xgrid.grid_line_color = None\n",
    "p.ygrid.grid_line_color = None\n",
    "\n",
    "output_file('output/d2v_bokeh_classifier.html',\n",
    "           mode = 'inline')  # toggle for write-to-file\n",
    "\n",
    "\n",
    "\n",
    "# add links\n",
    "url = \"@Link\"\n",
    "taptool = p.select(type=TapTool)\n",
    "taptool.callback = OpenURL(url=url)"
   ]
  },
  {
   "cell_type": "code",
   "execution_count": null,
   "metadata": {
    "hideCode": false,
    "hidePrompt": false
   },
   "outputs": [],
   "source": [
    "show(p)"
   ]
  },
  {
   "cell_type": "code",
   "execution_count": null,
   "metadata": {},
   "outputs": [],
   "source": []
  }
 ],
 "metadata": {
  "kernelspec": {
   "display_name": ".venv",
   "language": "python",
   "name": ".venv"
  },
  "language_info": {
   "codemirror_mode": {
    "name": "ipython",
    "version": 3
   },
   "file_extension": ".py",
   "mimetype": "text/x-python",
   "name": "python",
   "nbconvert_exporter": "python",
   "pygments_lexer": "ipython3",
   "version": "3.7.4"
  }
 },
 "nbformat": 4,
 "nbformat_minor": 4
}