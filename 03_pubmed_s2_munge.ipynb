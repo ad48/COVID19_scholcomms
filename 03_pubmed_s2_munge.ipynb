{
 "cells": [
  {
   "cell_type": "markdown",
   "metadata": {},
   "source": [
    "## TODO\n",
    "\n",
    "## Data\n",
    "#### Training dataset\n",
    "- make a text-iterator for pubmed data\n",
    "  - need to get pmids/dois for COVID-19 articles and filter those out\n",
    "  - add, say, 60% of the text-data for COVID-19. \n",
    "  \n",
    "#### Dev and test sets\n",
    "- for dev and test, take 20% of covid-19 and add a random sample of pubmed approximately the same size.\n",
    "- you might find that the sample of pubmed is not representative of real-world data, so you may have to have a larger sample with imbalanced classes.\n",
    "\n",
    "## Modelling\n",
    "- start with Doc2Vec and SVMs and see what you get. Then try a few other models and iterate. "
   ]
  },
  {
   "cell_type": "code",
   "execution_count": 21,
   "metadata": {},
   "outputs": [],
   "source": [
    "import pandas as pd\n",
    "import numpy as np"
   ]
  },
  {
   "cell_type": "code",
   "execution_count": 22,
   "metadata": {},
   "outputs": [
    {
     "data": {
      "text/plain": [
       "((12617, 14), (1020660, 9))"
      ]
     },
     "execution_count": 22,
     "metadata": {},
     "output_type": "execute_result"
    }
   ],
   "source": [
    "pubmed = pd.read_csv('data/pubmed_sample.csv', dtype=str, index_col = 0)\n",
    "covid = pd.read_csv('data/s2_cr_data.csv', dtype=str)\n",
    "covid.shape, pubmed.shape"
   ]
  },
  {
   "cell_type": "markdown",
   "metadata": {},
   "source": [
    "# Curious issue...\n",
    "All of the pubmed titles end in '.', but this isn't true for CORD-19."
   ]
  },
  {
   "cell_type": "code",
   "execution_count": 23,
   "metadata": {},
   "outputs": [],
   "source": [
    "pubmed = pubmed.rename(columns = {'title':'venue','articletitle':'title'})"
   ]
  },
  {
   "cell_type": "code",
   "execution_count": 24,
   "metadata": {},
   "outputs": [],
   "source": [
    "pubmed['title'] = [str(x)[:-1] if str(x)[-1]=='.' else str(x) for x in pubmed['title']]\n",
    "covid['title'] = [str(x)[:-1] if str(x)[-1]=='.' else str(x) for x in covid['title']]"
   ]
  },
  {
   "cell_type": "code",
   "execution_count": 25,
   "metadata": {},
   "outputs": [],
   "source": [
    "\n",
    "pubmed['tiabs'] = pubmed['title'] +'. '+pubmed['abstract']"
   ]
  },
  {
   "cell_type": "code",
   "execution_count": 26,
   "metadata": {},
   "outputs": [
    {
     "data": {
      "text/html": [
       "<div>\n",
       "<style scoped>\n",
       "    .dataframe tbody tr th:only-of-type {\n",
       "        vertical-align: middle;\n",
       "    }\n",
       "\n",
       "    .dataframe tbody tr th {\n",
       "        vertical-align: top;\n",
       "    }\n",
       "\n",
       "    .dataframe thead th {\n",
       "        text-align: right;\n",
       "    }\n",
       "</style>\n",
       "<table border=\"1\" class=\"dataframe\">\n",
       "  <thead>\n",
       "    <tr style=\"text-align: right;\">\n",
       "      <th></th>\n",
       "      <th>venue</th>\n",
       "      <th>title</th>\n",
       "      <th>abstract</th>\n",
       "      <th>year</th>\n",
       "      <th>articledate</th>\n",
       "      <th>doi</th>\n",
       "      <th>pmid</th>\n",
       "      <th>pii</th>\n",
       "      <th>pmc</th>\n",
       "      <th>tiabs</th>\n",
       "    </tr>\n",
       "  </thead>\n",
       "  <tbody>\n",
       "    <tr>\n",
       "      <th>573880</th>\n",
       "      <td>Clinical biomechanics (Bristol, Avon)</td>\n",
       "      <td>Biomechanical analysis of motion following sac...</td>\n",
       "      <td>\\nSacroiliac joint hypermobility or aberrant m...</td>\n",
       "      <td>2019</td>\n",
       "      <td>2019-05-25</td>\n",
       "      <td>10.1016/j.clinbiomech.2019.05.025</td>\n",
       "      <td>31234032</td>\n",
       "      <td>S0268-0033(18)30750-2</td>\n",
       "      <td>NaN</td>\n",
       "      <td>Biomechanical analysis of motion following sac...</td>\n",
       "    </tr>\n",
       "    <tr>\n",
       "      <th>532919</th>\n",
       "      <td>American journal of physiology. Renal physiology</td>\n",
       "      <td>Extracellular vesicles as a novel diagnostic a...</td>\n",
       "      <td>\\nHypertension (HTN) affects one in three adul...</td>\n",
       "      <td>2019</td>\n",
       "      <td>2019-07-17</td>\n",
       "      <td>10.1152/ajprenal.00071.2019</td>\n",
       "      <td>31313949</td>\n",
       "      <td>NaN</td>\n",
       "      <td>PMC6766633</td>\n",
       "      <td>Extracellular vesicles as a novel diagnostic a...</td>\n",
       "    </tr>\n",
       "    <tr>\n",
       "      <th>975263</th>\n",
       "      <td>Food science &amp; nutrition</td>\n",
       "      <td>Microbial quality of reduced-sodium napa cabba...</td>\n",
       "      <td>\\nThis study evaluated the microbial safety of...</td>\n",
       "      <td>2019</td>\n",
       "      <td>2019-01-24</td>\n",
       "      <td>10.1002/fsn3.898</td>\n",
       "      <td>30847142</td>\n",
       "      <td>FSN3898</td>\n",
       "      <td>PMC6392845</td>\n",
       "      <td>Microbial quality of reduced-sodium napa cabba...</td>\n",
       "    </tr>\n",
       "    <tr>\n",
       "      <th>773427</th>\n",
       "      <td>Frontiers in chemistry</td>\n",
       "      <td>Novel 4-Acrylamido-Quinoline Derivatives as Po...</td>\n",
       "      <td>\\nA novel structural series of quinoline deriv...</td>\n",
       "      <td>2019</td>\n",
       "      <td>2019-04-24</td>\n",
       "      <td>10.3389/fchem.2019.00236</td>\n",
       "      <td>31069214</td>\n",
       "      <td>NaN</td>\n",
       "      <td>PMC6491818</td>\n",
       "      <td>Novel 4-Acrylamido-Quinoline Derivatives as Po...</td>\n",
       "    </tr>\n",
       "    <tr>\n",
       "      <th>154758</th>\n",
       "      <td>Nephron</td>\n",
       "      <td>The Chronic Adverse Effect of Chloroquine on K...</td>\n",
       "      <td>\\nChloroquine (CQ), a classic autophagy inhibi...</td>\n",
       "      <td>2019</td>\n",
       "      <td>2019-10-29</td>\n",
       "      <td>10.1159/000503882</td>\n",
       "      <td>31661702</td>\n",
       "      <td>000503882</td>\n",
       "      <td>NaN</td>\n",
       "      <td>The Chronic Adverse Effect of Chloroquine on K...</td>\n",
       "    </tr>\n",
       "  </tbody>\n",
       "</table>\n",
       "</div>"
      ],
      "text/plain": [
       "                                                   venue  \\\n",
       "573880             Clinical biomechanics (Bristol, Avon)   \n",
       "532919  American journal of physiology. Renal physiology   \n",
       "975263                          Food science & nutrition   \n",
       "773427                            Frontiers in chemistry   \n",
       "154758                                           Nephron   \n",
       "\n",
       "                                                    title  \\\n",
       "573880  Biomechanical analysis of motion following sac...   \n",
       "532919  Extracellular vesicles as a novel diagnostic a...   \n",
       "975263  Microbial quality of reduced-sodium napa cabba...   \n",
       "773427  Novel 4-Acrylamido-Quinoline Derivatives as Po...   \n",
       "154758  The Chronic Adverse Effect of Chloroquine on K...   \n",
       "\n",
       "                                                 abstract  year articledate  \\\n",
       "573880  \\nSacroiliac joint hypermobility or aberrant m...  2019  2019-05-25   \n",
       "532919  \\nHypertension (HTN) affects one in three adul...  2019  2019-07-17   \n",
       "975263  \\nThis study evaluated the microbial safety of...  2019  2019-01-24   \n",
       "773427  \\nA novel structural series of quinoline deriv...  2019  2019-04-24   \n",
       "154758  \\nChloroquine (CQ), a classic autophagy inhibi...  2019  2019-10-29   \n",
       "\n",
       "                                      doi      pmid                    pii  \\\n",
       "573880  10.1016/j.clinbiomech.2019.05.025  31234032  S0268-0033(18)30750-2   \n",
       "532919        10.1152/ajprenal.00071.2019  31313949                    NaN   \n",
       "975263                   10.1002/fsn3.898  30847142                FSN3898   \n",
       "773427           10.3389/fchem.2019.00236  31069214                    NaN   \n",
       "154758                  10.1159/000503882  31661702              000503882   \n",
       "\n",
       "               pmc                                              tiabs  \n",
       "573880         NaN  Biomechanical analysis of motion following sac...  \n",
       "532919  PMC6766633  Extracellular vesicles as a novel diagnostic a...  \n",
       "975263  PMC6392845  Microbial quality of reduced-sodium napa cabba...  \n",
       "773427  PMC6491818  Novel 4-Acrylamido-Quinoline Derivatives as Po...  \n",
       "154758         NaN  The Chronic Adverse Effect of Chloroquine on K...  "
      ]
     },
     "execution_count": 26,
     "metadata": {},
     "output_type": "execute_result"
    }
   ],
   "source": [
    "pubmed.sample(5)"
   ]
  },
  {
   "cell_type": "markdown",
   "metadata": {},
   "source": [
    "Drop matching DOIs"
   ]
  },
  {
   "cell_type": "code",
   "execution_count": 27,
   "metadata": {},
   "outputs": [
    {
     "data": {
      "text/html": [
       "<div>\n",
       "<style scoped>\n",
       "    .dataframe tbody tr th:only-of-type {\n",
       "        vertical-align: middle;\n",
       "    }\n",
       "\n",
       "    .dataframe tbody tr th {\n",
       "        vertical-align: top;\n",
       "    }\n",
       "\n",
       "    .dataframe thead th {\n",
       "        text-align: right;\n",
       "    }\n",
       "</style>\n",
       "<table border=\"1\" class=\"dataframe\">\n",
       "  <thead>\n",
       "    <tr style=\"text-align: right;\">\n",
       "      <th></th>\n",
       "      <th>pid</th>\n",
       "      <th>doi</th>\n",
       "      <th>title</th>\n",
       "      <th>abstract</th>\n",
       "      <th>authors</th>\n",
       "      <th>venue</th>\n",
       "      <th>year</th>\n",
       "      <th>tiabs</th>\n",
       "      <th>journal</th>\n",
       "      <th>journal-short</th>\n",
       "      <th>pubdate</th>\n",
       "      <th>issns</th>\n",
       "      <th>publisher</th>\n",
       "      <th>pre</th>\n",
       "    </tr>\n",
       "  </thead>\n",
       "  <tbody>\n",
       "    <tr>\n",
       "      <th>2856</th>\n",
       "      <td>ee06cad1229867a6389ed8a7aaffb5148dd5f8ed</td>\n",
       "      <td>NaN</td>\n",
       "      <td>A*02:06-p4 (LTA-J-FLIFL) A*02:07-p5 (LLDS-J-YE...</td>\n",
       "      <td>A Supporting Information Figure 1 A. Design of...</td>\n",
       "      <td>NaN</td>\n",
       "      <td>NaN</td>\n",
       "      <td>NaN</td>\n",
       "      <td>A*02:06-p4 (LTA-J-FLIFL) A*02:07-p5 (LLDS-J-YE...</td>\n",
       "      <td>NaN</td>\n",
       "      <td>NaN</td>\n",
       "      <td>NaN</td>\n",
       "      <td>NaN</td>\n",
       "      <td>NaN</td>\n",
       "      <td>['p', 'lta', 'j', 'flifl', 'p', 'lld', 'j', 'y...</td>\n",
       "    </tr>\n",
       "    <tr>\n",
       "      <th>7168</th>\n",
       "      <td>3f9b24ea368416ce33708bb28327fb0b686b0ef0</td>\n",
       "      <td>10.1093/cid/ciy284</td>\n",
       "      <td>Counting Down the 2020 Goals for 9 Neglected T...</td>\n",
       "      <td>The control of neglected tropical diseases (NT...</td>\n",
       "      <td>Hollingsworth, T</td>\n",
       "      <td>Clinical infectious diseases : an official pub...</td>\n",
       "      <td>2018</td>\n",
       "      <td>Counting Down the 2020 Goals for 9 Neglected T...</td>\n",
       "      <td>Clinical Infectious Diseases</td>\n",
       "      <td>NaN</td>\n",
       "      <td>2018-04-03</td>\n",
       "      <td>1058-4838; 1537-6591</td>\n",
       "      <td>Oxford University Press (OUP)</td>\n",
       "      <td>['count', 'goal', 'neglect_tropic_diseas', 'le...</td>\n",
       "    </tr>\n",
       "    <tr>\n",
       "      <th>8417</th>\n",
       "      <td>d8a0e6a4cc626dfe6090ea49ce8b920eee3f98e1</td>\n",
       "      <td>NaN</td>\n",
       "      <td>Cohort profile: Studies of Work Environment an...</td>\n",
       "      <td>The aim of this article is to provide a detail...</td>\n",
       "      <td>Id, Francesca; Julander, Anneli; Linde, Annika...</td>\n",
       "      <td>NaN</td>\n",
       "      <td>NaN</td>\n",
       "      <td>Cohort profile: Studies of Work Environment an...</td>\n",
       "      <td>NaN</td>\n",
       "      <td>NaN</td>\n",
       "      <td>NaN</td>\n",
       "      <td>NaN</td>\n",
       "      <td>NaN</td>\n",
       "      <td>['cohort', 'profil', 'studi', 'work_environ', ...</td>\n",
       "    </tr>\n",
       "    <tr>\n",
       "      <th>7272</th>\n",
       "      <td>6ccce7b6fb9a213959f56ae465bb75ad130d6c9a</td>\n",
       "      <td>10.1186/s13018-018-0836-8</td>\n",
       "      <td>Accuracy of MRI diagnosis of early osteonecros...</td>\n",
       "      <td>ObjectiveTo evaluate the overall diagnostic va...</td>\n",
       "      <td>Zhang, Ya-Zhou; Cao, Xu-Yang; Li, Xi-Cheng; Ch...</td>\n",
       "      <td>Journal of Orthopaedic Surgery and Research</td>\n",
       "      <td>2018</td>\n",
       "      <td>Accuracy of MRI diagnosis of early osteonecros...</td>\n",
       "      <td>Journal of Orthopaedic Surgery and Research</td>\n",
       "      <td>J Orthop Surg Res</td>\n",
       "      <td>2018-07-04</td>\n",
       "      <td>1749-799X</td>\n",
       "      <td>Springer Science and Business Media LLC</td>\n",
       "      <td>['accuraci', 'mri', 'diagnosi', 'earli_osteone...</td>\n",
       "    </tr>\n",
       "    <tr>\n",
       "      <th>11263</th>\n",
       "      <td>1bed4f8a5412cfa315b0936705a647059ceaec62</td>\n",
       "      <td>NaN</td>\n",
       "      <td>nan</td>\n",
       "      <td>This virus is a positive sense single stranded...</td>\n",
       "      <td>NaN</td>\n",
       "      <td>NaN</td>\n",
       "      <td>NaN</td>\n",
       "      <td>This virus is a positive sense single stranded...</td>\n",
       "      <td>NaN</td>\n",
       "      <td>NaN</td>\n",
       "      <td>NaN</td>\n",
       "      <td>NaN</td>\n",
       "      <td>NaN</td>\n",
       "      <td>['viru', 'posit_sens_singl_strand', 'rna', 'vi...</td>\n",
       "    </tr>\n",
       "  </tbody>\n",
       "</table>\n",
       "</div>"
      ],
      "text/plain": [
       "                                            pid                        doi  \\\n",
       "2856   ee06cad1229867a6389ed8a7aaffb5148dd5f8ed                        NaN   \n",
       "7168   3f9b24ea368416ce33708bb28327fb0b686b0ef0         10.1093/cid/ciy284   \n",
       "8417   d8a0e6a4cc626dfe6090ea49ce8b920eee3f98e1                        NaN   \n",
       "7272   6ccce7b6fb9a213959f56ae465bb75ad130d6c9a  10.1186/s13018-018-0836-8   \n",
       "11263  1bed4f8a5412cfa315b0936705a647059ceaec62                        NaN   \n",
       "\n",
       "                                                   title  \\\n",
       "2856   A*02:06-p4 (LTA-J-FLIFL) A*02:07-p5 (LLDS-J-YE...   \n",
       "7168   Counting Down the 2020 Goals for 9 Neglected T...   \n",
       "8417   Cohort profile: Studies of Work Environment an...   \n",
       "7272   Accuracy of MRI diagnosis of early osteonecros...   \n",
       "11263                                                nan   \n",
       "\n",
       "                                                abstract  \\\n",
       "2856   A Supporting Information Figure 1 A. Design of...   \n",
       "7168   The control of neglected tropical diseases (NT...   \n",
       "8417   The aim of this article is to provide a detail...   \n",
       "7272   ObjectiveTo evaluate the overall diagnostic va...   \n",
       "11263  This virus is a positive sense single stranded...   \n",
       "\n",
       "                                                 authors  \\\n",
       "2856                                                 NaN   \n",
       "7168                                    Hollingsworth, T   \n",
       "8417   Id, Francesca; Julander, Anneli; Linde, Annika...   \n",
       "7272   Zhang, Ya-Zhou; Cao, Xu-Yang; Li, Xi-Cheng; Ch...   \n",
       "11263                                                NaN   \n",
       "\n",
       "                                                   venue  year  \\\n",
       "2856                                                 NaN   NaN   \n",
       "7168   Clinical infectious diseases : an official pub...  2018   \n",
       "8417                                                 NaN   NaN   \n",
       "7272         Journal of Orthopaedic Surgery and Research  2018   \n",
       "11263                                                NaN   NaN   \n",
       "\n",
       "                                                   tiabs  \\\n",
       "2856   A*02:06-p4 (LTA-J-FLIFL) A*02:07-p5 (LLDS-J-YE...   \n",
       "7168   Counting Down the 2020 Goals for 9 Neglected T...   \n",
       "8417   Cohort profile: Studies of Work Environment an...   \n",
       "7272   Accuracy of MRI diagnosis of early osteonecros...   \n",
       "11263  This virus is a positive sense single stranded...   \n",
       "\n",
       "                                           journal      journal-short  \\\n",
       "2856                                           NaN                NaN   \n",
       "7168                  Clinical Infectious Diseases                NaN   \n",
       "8417                                           NaN                NaN   \n",
       "7272   Journal of Orthopaedic Surgery and Research  J Orthop Surg Res   \n",
       "11263                                          NaN                NaN   \n",
       "\n",
       "          pubdate                 issns  \\\n",
       "2856          NaN                   NaN   \n",
       "7168   2018-04-03  1058-4838; 1537-6591   \n",
       "8417          NaN                   NaN   \n",
       "7272   2018-07-04             1749-799X   \n",
       "11263         NaN                   NaN   \n",
       "\n",
       "                                     publisher  \\\n",
       "2856                                       NaN   \n",
       "7168             Oxford University Press (OUP)   \n",
       "8417                                       NaN   \n",
       "7272   Springer Science and Business Media LLC   \n",
       "11263                                      NaN   \n",
       "\n",
       "                                                     pre  \n",
       "2856   ['p', 'lta', 'j', 'flifl', 'p', 'lld', 'j', 'y...  \n",
       "7168   ['count', 'goal', 'neglect_tropic_diseas', 'le...  \n",
       "8417   ['cohort', 'profil', 'studi', 'work_environ', ...  \n",
       "7272   ['accuraci', 'mri', 'diagnosi', 'earli_osteone...  \n",
       "11263  ['viru', 'posit_sens_singl_strand', 'rna', 'vi...  "
      ]
     },
     "execution_count": 27,
     "metadata": {},
     "output_type": "execute_result"
    }
   ],
   "source": [
    "covid.sample(5)"
   ]
  },
  {
   "cell_type": "code",
   "execution_count": 28,
   "metadata": {},
   "outputs": [],
   "source": [
    "covid_doi_set = set([str(x) for x in covid.doi.unique() if str(x) not in {'nan','None'}])"
   ]
  },
  {
   "cell_type": "code",
   "execution_count": 29,
   "metadata": {},
   "outputs": [
    {
     "data": {
      "text/plain": [
       "(1019932, 10)"
      ]
     },
     "execution_count": 29,
     "metadata": {},
     "output_type": "execute_result"
    }
   ],
   "source": [
    "# drop any DOIs in both sets\n",
    "pubmed = pubmed[~pubmed.doi.isin(covid_doi_set)]\n",
    "pubmed.shape"
   ]
  },
  {
   "cell_type": "markdown",
   "metadata": {},
   "source": [
    "Drop matching titles"
   ]
  },
  {
   "cell_type": "code",
   "execution_count": 30,
   "metadata": {},
   "outputs": [
    {
     "data": {
      "text/plain": [
       "((1019605, 10), 11989)"
      ]
     },
     "execution_count": 30,
     "metadata": {},
     "output_type": "execute_result"
    }
   ],
   "source": [
    "# try dropping matching titles.\n",
    "covid_title_set = set([str(x) for x in covid.title.unique() if str(x) not in {'nan','None'}])\n",
    "pubmed[~pubmed.title.isin(covid_title_set)].shape, len(list(covid_title_set))"
   ]
  },
  {
   "cell_type": "code",
   "execution_count": 31,
   "metadata": {},
   "outputs": [
    {
     "data": {
      "text/plain": [
       "((1019605, 10), (12617, 14))"
      ]
     },
     "execution_count": 31,
     "metadata": {},
     "output_type": "execute_result"
    }
   ],
   "source": [
    "pubmed = pubmed[~pubmed.title.isin(covid_title_set)]\n",
    "pubmed.shape, covid.shape"
   ]
  },
  {
   "cell_type": "code",
   "execution_count": 32,
   "metadata": {},
   "outputs": [
    {
     "data": {
      "text/plain": [
       "(1019598, 10)"
      ]
     },
     "execution_count": 32,
     "metadata": {},
     "output_type": "execute_result"
    }
   ],
   "source": [
    "# also drop duplicates\n",
    "pubmed = pubmed.drop_duplicates(subset = ['pmid','doi'], keep = 'first')\n",
    "pubmed.shape"
   ]
  },
  {
   "cell_type": "markdown",
   "metadata": {},
   "source": [
    "Not a huge crossover - just a few hundred matching DOIs.  No PMIDs in the S2 API data as far as I can see. Title matching wasn't great - assumes perfect match. \n",
    "\n",
    "I'm concerned that we haven't filtered out enough covid-related content from the pubmed part of this to get a good classifier.\n",
    "\n",
    "Consider using keywords to drop more content from pubmed."
   ]
  },
  {
   "cell_type": "code",
   "execution_count": 33,
   "metadata": {},
   "outputs": [],
   "source": [
    "covid = covid[~covid['tiabs'].isna()]\n",
    "pubmed = pubmed[~pubmed['tiabs'].isna()]"
   ]
  },
  {
   "cell_type": "markdown",
   "metadata": {},
   "source": [
    "## Build datasets"
   ]
  },
  {
   "cell_type": "code",
   "execution_count": 34,
   "metadata": {},
   "outputs": [],
   "source": [
    "# add a response columne\n",
    "covid['covid'] = 1\n",
    "pubmed['covid'] = 0"
   ]
  },
  {
   "cell_type": "code",
   "execution_count": null,
   "metadata": {},
   "outputs": [],
   "source": []
  },
  {
   "cell_type": "code",
   "execution_count": null,
   "metadata": {},
   "outputs": [],
   "source": []
  },
  {
   "cell_type": "code",
   "execution_count": 35,
   "metadata": {},
   "outputs": [],
   "source": [
    "# write out all data\n",
    "# pd.concat([pubmed,covid]).to_csv('data/all_s2_pubmed.csv', encoding = 'utf-8-sig')"
   ]
  },
  {
   "cell_type": "code",
   "execution_count": null,
   "metadata": {},
   "outputs": [],
   "source": []
  },
  {
   "cell_type": "code",
   "execution_count": 36,
   "metadata": {},
   "outputs": [
    {
     "data": {
      "text/plain": [
       "((7570, 15), (2523, 15), (2524, 15))"
      ]
     },
     "execution_count": 36,
     "metadata": {},
     "output_type": "execute_result"
    }
   ],
   "source": [
    "rs = 100\n",
    "\n",
    "covid_train = covid.sample(int(0.6*covid.shape[0]), random_state = rs)\n",
    "covid_devtest = covid[~covid['pid'].isin(set(covid_train['pid']))]\n",
    "covid_dev = covid_devtest.sample(int(covid_devtest.shape[0]/2), random_state = rs)\n",
    "covid_test = covid_devtest[~covid_devtest['pid'].isin(set(covid_dev['pid']))]\n",
    "covid_train.shape, covid_dev.shape, covid_test.shape"
   ]
  },
  {
   "cell_type": "code",
   "execution_count": 37,
   "metadata": {},
   "outputs": [
    {
     "data": {
      "text/plain": [
       "((884283, 11), (2523, 11), (2523, 11))"
      ]
     },
     "execution_count": 37,
     "metadata": {},
     "output_type": "execute_result"
    }
   ],
   "source": [
    "pubmed_test = pubmed.sample(covid_dev.shape[0], random_state = rs)\n",
    "pubmed = pubmed[~pubmed['pmid'].isin(set(pubmed_test['pmid']))]\n",
    "pubmed_dev = pubmed.sample(covid_dev.shape[0], random_state = rs)\n",
    "pubmed_train = pubmed[~pubmed['pmid'].isin(set(pubmed_dev['pmid']))]\n",
    "\n",
    "pubmed_train.shape, pubmed_dev.shape, pubmed_test.shape"
   ]
  },
  {
   "cell_type": "code",
   "execution_count": 38,
   "metadata": {},
   "outputs": [
    {
     "data": {
      "text/plain": [
       "((891853, 19), (5047, 19), (5046, 19))"
      ]
     },
     "execution_count": 38,
     "metadata": {},
     "output_type": "execute_result"
    }
   ],
   "source": [
    "train = pd.concat([pubmed_train, covid_train])\n",
    "test = pd.concat([pubmed_test, covid_test])\n",
    "dev = pd.concat([pubmed_dev, covid_dev])\n",
    "\n",
    "# randomize\n",
    "train = train.sample(train.shape[0], random_state=rs)\n",
    "test = test.sample(test.shape[0], random_state=rs)\n",
    "dev = dev.sample(dev.shape[0], random_state=rs)\n",
    "\n",
    "train.shape, test.shape, dev.shape"
   ]
  },
  {
   "cell_type": "markdown",
   "metadata": {},
   "source": [
    "## Write out"
   ]
  },
  {
   "cell_type": "code",
   "execution_count": 39,
   "metadata": {},
   "outputs": [],
   "source": [
    "train.to_csv('data/train.csv', encoding = 'utf-8-sig',index=False)\n",
    "test.to_csv('data/test.csv', encoding = 'utf-8-sig',index=False)\n",
    "dev.to_csv('data/dev.csv', encoding = 'utf-8-sig',index=False)"
   ]
  },
  {
   "cell_type": "code",
   "execution_count": null,
   "metadata": {},
   "outputs": [],
   "source": []
  }
 ],
 "metadata": {
  "kernelspec": {
   "display_name": ".venv",
   "language": "python",
   "name": ".venv"
  },
  "language_info": {
   "codemirror_mode": {
    "name": "ipython",
    "version": 3
   },
   "file_extension": ".py",
   "mimetype": "text/x-python",
   "name": "python",
   "nbconvert_exporter": "python",
   "pygments_lexer": "ipython3",
   "version": "3.7.4"
  }
 },
 "nbformat": 4,
 "nbformat_minor": 4
}
