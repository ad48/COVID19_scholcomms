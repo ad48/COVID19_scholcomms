{
 "cells": [
  {
   "cell_type": "markdown",
   "metadata": {},
   "source": [
    "## TODO\n",
    "\n",
    "## Data\n",
    "#### Training dataset\n",
    "- make a text-iterator for pubmed data\n",
    "  - need to get pmids/dois for COVID-19 articles and filter those out\n",
    "  - add, say 60% of the text-data for COVID-19. \n",
    "  \n",
    "#### Dev and test sets\n",
    "- for dev and test, take 20% of covid-19 and add a random sample of pubmed approximately the same size.\n",
    "- you might find that the sample of pubmed is not representative of real-world data, so you may have to have a larger sample with imbalanced classes.\n",
    "\n",
    "## Modelling\n",
    "- start with Doc2Vec and SVMs and see what you get. Then try a few other models and iterate. "
   ]
  },
  {
   "cell_type": "markdown",
   "metadata": {},
   "source": [
    "## Note on downloading PubMed data.\n",
    "The easiest way I have found to do this, is to simply go here: ftp://ftp.ncbi.nlm.nih.gov/pubmed/baseline\n",
    "... and then download everything. With windows, you can use Windows Subsystem for Linux (WSL), or you can just use a terminal on Mac/Linux.\n",
    "\n",
    "Replace 'destinationPath' with the path to an empty directory where you want to download the data to. \n",
    "\n",
    "`wget ftp://ftp.ncbi.nlm.nih.gov/pubmed/baseline/* destinationPath`"
   ]
  },
  {
   "cell_type": "code",
   "execution_count": null,
   "metadata": {},
   "outputs": [],
   "source": []
  }
 ],
 "metadata": {
  "kernelspec": {
   "display_name": ".venv",
   "language": "python",
   "name": ".venv"
  },
  "language_info": {
   "codemirror_mode": {
    "name": "ipython",
    "version": 3
   },
   "file_extension": ".py",
   "mimetype": "text/x-python",
   "name": "python",
   "nbconvert_exporter": "python",
   "pygments_lexer": "ipython3",
   "version": "3.7.4"
  }
 },
 "nbformat": 4,
 "nbformat_minor": 4
}
